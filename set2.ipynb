{
 "cells": [
  {
   "attachments": {},
   "cell_type": "markdown",
   "id": "f0a8b972",
   "metadata": {},
   "source": [
    "# Εξόρυξη Δεδόμενων\n",
    "\n",
    "\n",
    "\n",
    "\n",
    "\n",
    "# Ον/Επ: Αλέξανδρος Καπενής \n",
    "\n"
   ]
  },
  {
   "cell_type": "code",
   "execution_count": 1,
   "id": "9787cefb",
   "metadata": {},
   "outputs": [],
   "source": [
    "import pandas as pd\n",
    "import numpy as np\n",
    "from scipy import stats\n",
    "import scipy as sp\n",
    "import matplotlib.pyplot as plt #main plotting tool for python\n",
    "import matplotlib as mpl\n",
    "import seaborn as sns\n",
    "from sklearn.utils import shuffle\n",
    "import math\n",
    "from sklearn.metrics import mean_squared_error \n",
    "import scipy.sparse as sp_sparse\n",
    "from sklearn.metrics.pairwise import cosine_similarity\n",
    "from datetime import datetime\n",
    "import scipy.sparse.linalg as sp_linalg\n",
    "import sklearn.cluster as sk_cluster\n",
    "import sklearn.metrics as metrics\n",
    "import sklearn.feature_extraction.text as sk_text"
   ]
  },
  {
   "cell_type": "markdown",
   "id": "50f64c4f",
   "metadata": {},
   "source": [
    "# Βήμα 1:επεξεργασία των δεδομένων"
   ]
  },
  {
   "cell_type": "code",
   "execution_count": 2,
   "id": "e660fd2e",
   "metadata": {},
   "outputs": [],
   "source": [
    "testdf=pd.read_csv('train.csv')"
   ]
  },
  {
   "cell_type": "code",
   "execution_count": 3,
   "id": "c6f43a85",
   "metadata": {},
   "outputs": [
    {
     "data": {
      "text/html": [
       "<div>\n",
       "<style scoped>\n",
       "    .dataframe tbody tr th:only-of-type {\n",
       "        vertical-align: middle;\n",
       "    }\n",
       "\n",
       "    .dataframe tbody tr th {\n",
       "        vertical-align: top;\n",
       "    }\n",
       "\n",
       "    .dataframe thead th {\n",
       "        text-align: right;\n",
       "    }\n",
       "</style>\n",
       "<table border=\"1\" class=\"dataframe\">\n",
       "  <thead>\n",
       "    <tr style=\"text-align: right;\">\n",
       "      <th></th>\n",
       "      <th>id</th>\n",
       "      <th>user_id</th>\n",
       "      <th>joke_id</th>\n",
       "      <th>Rating</th>\n",
       "    </tr>\n",
       "  </thead>\n",
       "  <tbody>\n",
       "    <tr>\n",
       "      <th>0</th>\n",
       "      <td>31030_110</td>\n",
       "      <td>31030</td>\n",
       "      <td>110</td>\n",
       "      <td>2.750</td>\n",
       "    </tr>\n",
       "    <tr>\n",
       "      <th>1</th>\n",
       "      <td>16144_109</td>\n",
       "      <td>16144</td>\n",
       "      <td>109</td>\n",
       "      <td>5.094</td>\n",
       "    </tr>\n",
       "    <tr>\n",
       "      <th>2</th>\n",
       "      <td>23098_6</td>\n",
       "      <td>23098</td>\n",
       "      <td>6</td>\n",
       "      <td>-6.438</td>\n",
       "    </tr>\n",
       "    <tr>\n",
       "      <th>3</th>\n",
       "      <td>14273_86</td>\n",
       "      <td>14273</td>\n",
       "      <td>86</td>\n",
       "      <td>4.406</td>\n",
       "    </tr>\n",
       "    <tr>\n",
       "      <th>4</th>\n",
       "      <td>18419_134</td>\n",
       "      <td>18419</td>\n",
       "      <td>134</td>\n",
       "      <td>9.375</td>\n",
       "    </tr>\n",
       "    <tr>\n",
       "      <th>...</th>\n",
       "      <td>...</td>\n",
       "      <td>...</td>\n",
       "      <td>...</td>\n",
       "      <td>...</td>\n",
       "    </tr>\n",
       "    <tr>\n",
       "      <th>1092054</th>\n",
       "      <td>9517_132</td>\n",
       "      <td>9517</td>\n",
       "      <td>132</td>\n",
       "      <td>3.156</td>\n",
       "    </tr>\n",
       "    <tr>\n",
       "      <th>1092055</th>\n",
       "      <td>27767_118</td>\n",
       "      <td>27767</td>\n",
       "      <td>118</td>\n",
       "      <td>-1.594</td>\n",
       "    </tr>\n",
       "    <tr>\n",
       "      <th>1092056</th>\n",
       "      <td>10580_81</td>\n",
       "      <td>10580</td>\n",
       "      <td>81</td>\n",
       "      <td>2.000</td>\n",
       "    </tr>\n",
       "    <tr>\n",
       "      <th>1092057</th>\n",
       "      <td>31007_119</td>\n",
       "      <td>31007</td>\n",
       "      <td>119</td>\n",
       "      <td>8.906</td>\n",
       "    </tr>\n",
       "    <tr>\n",
       "      <th>1092058</th>\n",
       "      <td>8420_98</td>\n",
       "      <td>8420</td>\n",
       "      <td>98</td>\n",
       "      <td>-3.344</td>\n",
       "    </tr>\n",
       "  </tbody>\n",
       "</table>\n",
       "<p>1092059 rows × 4 columns</p>\n",
       "</div>"
      ],
      "text/plain": [
       "                id  user_id  joke_id  Rating\n",
       "0        31030_110    31030      110   2.750\n",
       "1        16144_109    16144      109   5.094\n",
       "2          23098_6    23098        6  -6.438\n",
       "3         14273_86    14273       86   4.406\n",
       "4        18419_134    18419      134   9.375\n",
       "...            ...      ...      ...     ...\n",
       "1092054   9517_132     9517      132   3.156\n",
       "1092055  27767_118    27767      118  -1.594\n",
       "1092056   10580_81    10580       81   2.000\n",
       "1092057  31007_119    31007      119   8.906\n",
       "1092058    8420_98     8420       98  -3.344\n",
       "\n",
       "[1092059 rows x 4 columns]"
      ]
     },
     "execution_count": 3,
     "metadata": {},
     "output_type": "execute_result"
    }
   ],
   "source": [
    "testdf"
   ]
  },
  {
   "cell_type": "markdown",
   "id": "7a95a04e",
   "metadata": {},
   "source": [
    "Αφαιρουμε 1 απο τους χρηστες και τα αστεια για τα χρησιμοποιησουμε σαν index αργοτερα"
   ]
  },
  {
   "cell_type": "code",
   "execution_count": 4,
   "id": "89b46b9c",
   "metadata": {},
   "outputs": [],
   "source": [
    "testdf['user_id'] = (testdf['user_id'] -1)\n",
    "testdf['joke_id'] = (testdf['joke_id'] -1)"
   ]
  },
  {
   "cell_type": "code",
   "execution_count": 5,
   "id": "9b14ada8",
   "metadata": {},
   "outputs": [
    {
     "data": {
      "text/html": [
       "<div>\n",
       "<style scoped>\n",
       "    .dataframe tbody tr th:only-of-type {\n",
       "        vertical-align: middle;\n",
       "    }\n",
       "\n",
       "    .dataframe tbody tr th {\n",
       "        vertical-align: top;\n",
       "    }\n",
       "\n",
       "    .dataframe thead th {\n",
       "        text-align: right;\n",
       "    }\n",
       "</style>\n",
       "<table border=\"1\" class=\"dataframe\">\n",
       "  <thead>\n",
       "    <tr style=\"text-align: right;\">\n",
       "      <th></th>\n",
       "      <th>id</th>\n",
       "      <th>user_id</th>\n",
       "      <th>joke_id</th>\n",
       "      <th>Rating</th>\n",
       "    </tr>\n",
       "  </thead>\n",
       "  <tbody>\n",
       "    <tr>\n",
       "      <th>0</th>\n",
       "      <td>31030_110</td>\n",
       "      <td>31029</td>\n",
       "      <td>109</td>\n",
       "      <td>2.750</td>\n",
       "    </tr>\n",
       "    <tr>\n",
       "      <th>1</th>\n",
       "      <td>16144_109</td>\n",
       "      <td>16143</td>\n",
       "      <td>108</td>\n",
       "      <td>5.094</td>\n",
       "    </tr>\n",
       "    <tr>\n",
       "      <th>2</th>\n",
       "      <td>23098_6</td>\n",
       "      <td>23097</td>\n",
       "      <td>5</td>\n",
       "      <td>-6.438</td>\n",
       "    </tr>\n",
       "    <tr>\n",
       "      <th>3</th>\n",
       "      <td>14273_86</td>\n",
       "      <td>14272</td>\n",
       "      <td>85</td>\n",
       "      <td>4.406</td>\n",
       "    </tr>\n",
       "    <tr>\n",
       "      <th>4</th>\n",
       "      <td>18419_134</td>\n",
       "      <td>18418</td>\n",
       "      <td>133</td>\n",
       "      <td>9.375</td>\n",
       "    </tr>\n",
       "    <tr>\n",
       "      <th>...</th>\n",
       "      <td>...</td>\n",
       "      <td>...</td>\n",
       "      <td>...</td>\n",
       "      <td>...</td>\n",
       "    </tr>\n",
       "    <tr>\n",
       "      <th>1092054</th>\n",
       "      <td>9517_132</td>\n",
       "      <td>9516</td>\n",
       "      <td>131</td>\n",
       "      <td>3.156</td>\n",
       "    </tr>\n",
       "    <tr>\n",
       "      <th>1092055</th>\n",
       "      <td>27767_118</td>\n",
       "      <td>27766</td>\n",
       "      <td>117</td>\n",
       "      <td>-1.594</td>\n",
       "    </tr>\n",
       "    <tr>\n",
       "      <th>1092056</th>\n",
       "      <td>10580_81</td>\n",
       "      <td>10579</td>\n",
       "      <td>80</td>\n",
       "      <td>2.000</td>\n",
       "    </tr>\n",
       "    <tr>\n",
       "      <th>1092057</th>\n",
       "      <td>31007_119</td>\n",
       "      <td>31006</td>\n",
       "      <td>118</td>\n",
       "      <td>8.906</td>\n",
       "    </tr>\n",
       "    <tr>\n",
       "      <th>1092058</th>\n",
       "      <td>8420_98</td>\n",
       "      <td>8419</td>\n",
       "      <td>97</td>\n",
       "      <td>-3.344</td>\n",
       "    </tr>\n",
       "  </tbody>\n",
       "</table>\n",
       "<p>1092059 rows × 4 columns</p>\n",
       "</div>"
      ],
      "text/plain": [
       "                id  user_id  joke_id  Rating\n",
       "0        31030_110    31029      109   2.750\n",
       "1        16144_109    16143      108   5.094\n",
       "2          23098_6    23097        5  -6.438\n",
       "3         14273_86    14272       85   4.406\n",
       "4        18419_134    18418      133   9.375\n",
       "...            ...      ...      ...     ...\n",
       "1092054   9517_132     9516      131   3.156\n",
       "1092055  27767_118    27766      117  -1.594\n",
       "1092056   10580_81    10579       80   2.000\n",
       "1092057  31007_119    31006      118   8.906\n",
       "1092058    8420_98     8419       97  -3.344\n",
       "\n",
       "[1092059 rows x 4 columns]"
      ]
     },
     "execution_count": 5,
     "metadata": {},
     "output_type": "execute_result"
    }
   ],
   "source": [
    "testdf\n"
   ]
  },
  {
   "cell_type": "markdown",
   "id": "8dd9d5f8",
   "metadata": {},
   "source": [
    "Κανουμε αναδιαταξη και τα χωριζουμε"
   ]
  },
  {
   "cell_type": "code",
   "execution_count": 6,
   "id": "3cbc927e",
   "metadata": {},
   "outputs": [],
   "source": [
    "sh_test_df=shuffle(testdf , random_state=2021)"
   ]
  },
  {
   "cell_type": "code",
   "execution_count": 7,
   "id": "bc487b25",
   "metadata": {},
   "outputs": [],
   "source": [
    "test = sh_test_df.iloc[:10000,:]\n",
    "train = sh_test_df.iloc[10001:,:]"
   ]
  },
  {
   "cell_type": "markdown",
   "id": "791ab503",
   "metadata": {},
   "source": [
    "# Βήμα 2: "
   ]
  },
  {
   "cell_type": "markdown",
   "id": "a65e892e",
   "metadata": {},
   "source": [
    "Για να πάρουμε τον μέσο όρο για κάθε χρήστη θα κάνουμε ένα groopby ανά χρήση και θα πάρουμε έτσι το μέσο όρο του καθενός και για κάθε χρήση στο test μέρος θα δώσουμε το μέσο όρο"
   ]
  },
  {
   "cell_type": "code",
   "execution_count": 10,
   "id": "66c7d5aa",
   "metadata": {},
   "outputs": [
    {
     "name": "stdout",
     "output_type": "stream",
     "text": [
      "0:00:00.104025\n"
     ]
    }
   ],
   "source": [
    "now = datetime.now()\n",
    "by_user_AV=train.groupby(by=[\"user_id\"]).mean()\n",
    "after=datetime.now()\n",
    "delta=after-now\n",
    "print(delta)"
   ]
  },
  {
   "cell_type": "markdown",
   "id": "afcbf844",
   "metadata": {},
   "source": [
    "Ομοια θα κανουμε και για τα αστεια αλλα αυτη τη φορα θα κανουμε groopby αστειο και για καθε αστειο στο test θα δοσουμε το μεσο ορο"
   ]
  },
  {
   "cell_type": "code",
   "execution_count": 11,
   "id": "de9d7b98",
   "metadata": {},
   "outputs": [
    {
     "name": "stdout",
     "output_type": "stream",
     "text": [
      "0:00:00.081010\n"
     ]
    }
   ],
   "source": [
    "now = datetime.now()\n",
    "by_joke_AV=train.groupby(by=[\"joke_id\"]).mean()\n",
    "after=datetime.now()\n",
    "delta=after-now\n",
    "print(delta)"
   ]
  },
  {
   "cell_type": "code",
   "execution_count": 12,
   "id": "67a94db7",
   "metadata": {},
   "outputs": [
    {
     "data": {
      "text/html": [
       "<div>\n",
       "<style scoped>\n",
       "    .dataframe tbody tr th:only-of-type {\n",
       "        vertical-align: middle;\n",
       "    }\n",
       "\n",
       "    .dataframe tbody tr th {\n",
       "        vertical-align: top;\n",
       "    }\n",
       "\n",
       "    .dataframe thead th {\n",
       "        text-align: right;\n",
       "    }\n",
       "</style>\n",
       "<table border=\"1\" class=\"dataframe\">\n",
       "  <thead>\n",
       "    <tr style=\"text-align: right;\">\n",
       "      <th></th>\n",
       "      <th>User_AV</th>\n",
       "    </tr>\n",
       "    <tr>\n",
       "      <th>user_id</th>\n",
       "      <th></th>\n",
       "    </tr>\n",
       "  </thead>\n",
       "  <tbody>\n",
       "    <tr>\n",
       "      <th>0</th>\n",
       "      <td>2.502220</td>\n",
       "    </tr>\n",
       "    <tr>\n",
       "      <th>1</th>\n",
       "      <td>4.456565</td>\n",
       "    </tr>\n",
       "    <tr>\n",
       "      <th>2</th>\n",
       "      <td>-5.544167</td>\n",
       "    </tr>\n",
       "    <tr>\n",
       "      <th>3</th>\n",
       "      <td>2.993000</td>\n",
       "    </tr>\n",
       "    <tr>\n",
       "      <th>4</th>\n",
       "      <td>-1.723889</td>\n",
       "    </tr>\n",
       "    <tr>\n",
       "      <th>...</th>\n",
       "      <td>...</td>\n",
       "    </tr>\n",
       "    <tr>\n",
       "      <th>40858</th>\n",
       "      <td>3.942385</td>\n",
       "    </tr>\n",
       "    <tr>\n",
       "      <th>40859</th>\n",
       "      <td>-0.454778</td>\n",
       "    </tr>\n",
       "    <tr>\n",
       "      <th>40860</th>\n",
       "      <td>-1.919571</td>\n",
       "    </tr>\n",
       "    <tr>\n",
       "      <th>40861</th>\n",
       "      <td>-1.638571</td>\n",
       "    </tr>\n",
       "    <tr>\n",
       "      <th>40862</th>\n",
       "      <td>4.009333</td>\n",
       "    </tr>\n",
       "  </tbody>\n",
       "</table>\n",
       "<p>40863 rows × 1 columns</p>\n",
       "</div>"
      ],
      "text/plain": [
       "          User_AV\n",
       "user_id          \n",
       "0        2.502220\n",
       "1        4.456565\n",
       "2       -5.544167\n",
       "3        2.993000\n",
       "4       -1.723889\n",
       "...           ...\n",
       "40858    3.942385\n",
       "40859   -0.454778\n",
       "40860   -1.919571\n",
       "40861   -1.638571\n",
       "40862    4.009333\n",
       "\n",
       "[40863 rows x 1 columns]"
      ]
     },
     "execution_count": 12,
     "metadata": {},
     "output_type": "execute_result"
    }
   ],
   "source": [
    "by_user_AV=by_user_AV.drop(['joke_id'],axis='columns')\n",
    "by_user_AV=by_user_AV.rename(columns={\"Rating\": \"User_AV\"})\n",
    "by_user_AV"
   ]
  },
  {
   "cell_type": "code",
   "execution_count": 13,
   "id": "dd0b21da",
   "metadata": {},
   "outputs": [],
   "source": [
    "test=test.merge(by_user_AV,on='user_id')"
   ]
  },
  {
   "cell_type": "code",
   "execution_count": 14,
   "id": "58350b29",
   "metadata": {},
   "outputs": [
    {
     "data": {
      "text/html": [
       "<div>\n",
       "<style scoped>\n",
       "    .dataframe tbody tr th:only-of-type {\n",
       "        vertical-align: middle;\n",
       "    }\n",
       "\n",
       "    .dataframe tbody tr th {\n",
       "        vertical-align: top;\n",
       "    }\n",
       "\n",
       "    .dataframe thead th {\n",
       "        text-align: right;\n",
       "    }\n",
       "</style>\n",
       "<table border=\"1\" class=\"dataframe\">\n",
       "  <thead>\n",
       "    <tr style=\"text-align: right;\">\n",
       "      <th></th>\n",
       "      <th>joke_AV</th>\n",
       "    </tr>\n",
       "    <tr>\n",
       "      <th>joke_id</th>\n",
       "      <th></th>\n",
       "    </tr>\n",
       "  </thead>\n",
       "  <tbody>\n",
       "    <tr>\n",
       "      <th>0</th>\n",
       "      <td>-2.243212</td>\n",
       "    </tr>\n",
       "    <tr>\n",
       "      <th>1</th>\n",
       "      <td>-1.933326</td>\n",
       "    </tr>\n",
       "    <tr>\n",
       "      <th>2</th>\n",
       "      <td>-0.669190</td>\n",
       "    </tr>\n",
       "    <tr>\n",
       "      <th>3</th>\n",
       "      <td>-0.606896</td>\n",
       "    </tr>\n",
       "    <tr>\n",
       "      <th>4</th>\n",
       "      <td>-1.414191</td>\n",
       "    </tr>\n",
       "    <tr>\n",
       "      <th>...</th>\n",
       "      <td>...</td>\n",
       "    </tr>\n",
       "    <tr>\n",
       "      <th>134</th>\n",
       "      <td>2.446052</td>\n",
       "    </tr>\n",
       "    <tr>\n",
       "      <th>135</th>\n",
       "      <td>0.149427</td>\n",
       "    </tr>\n",
       "    <tr>\n",
       "      <th>136</th>\n",
       "      <td>1.843784</td>\n",
       "    </tr>\n",
       "    <tr>\n",
       "      <th>137</th>\n",
       "      <td>3.048386</td>\n",
       "    </tr>\n",
       "    <tr>\n",
       "      <th>138</th>\n",
       "      <td>2.406175</td>\n",
       "    </tr>\n",
       "  </tbody>\n",
       "</table>\n",
       "<p>139 rows × 1 columns</p>\n",
       "</div>"
      ],
      "text/plain": [
       "          joke_AV\n",
       "joke_id          \n",
       "0       -2.243212\n",
       "1       -1.933326\n",
       "2       -0.669190\n",
       "3       -0.606896\n",
       "4       -1.414191\n",
       "...           ...\n",
       "134      2.446052\n",
       "135      0.149427\n",
       "136      1.843784\n",
       "137      3.048386\n",
       "138      2.406175\n",
       "\n",
       "[139 rows x 1 columns]"
      ]
     },
     "execution_count": 14,
     "metadata": {},
     "output_type": "execute_result"
    }
   ],
   "source": [
    "by_joke_AV=by_joke_AV.drop(['user_id'],axis=1)\n",
    "by_joke_AV=by_joke_AV.rename(columns={\"Rating\": \"joke_AV\"})\n",
    "by_joke_AV"
   ]
  },
  {
   "cell_type": "code",
   "execution_count": 15,
   "id": "055960ac",
   "metadata": {},
   "outputs": [
    {
     "data": {
      "text/html": [
       "<div>\n",
       "<style scoped>\n",
       "    .dataframe tbody tr th:only-of-type {\n",
       "        vertical-align: middle;\n",
       "    }\n",
       "\n",
       "    .dataframe tbody tr th {\n",
       "        vertical-align: top;\n",
       "    }\n",
       "\n",
       "    .dataframe thead th {\n",
       "        text-align: right;\n",
       "    }\n",
       "</style>\n",
       "<table border=\"1\" class=\"dataframe\">\n",
       "  <thead>\n",
       "    <tr style=\"text-align: right;\">\n",
       "      <th></th>\n",
       "      <th>id</th>\n",
       "      <th>user_id</th>\n",
       "      <th>joke_id</th>\n",
       "      <th>Rating</th>\n",
       "      <th>User_AV</th>\n",
       "      <th>joke_AV</th>\n",
       "    </tr>\n",
       "  </thead>\n",
       "  <tbody>\n",
       "    <tr>\n",
       "      <th>0</th>\n",
       "      <td>39893_22</td>\n",
       "      <td>39892</td>\n",
       "      <td>21</td>\n",
       "      <td>-0.281</td>\n",
       "      <td>1.522214</td>\n",
       "      <td>3.505219</td>\n",
       "    </tr>\n",
       "    <tr>\n",
       "      <th>1</th>\n",
       "      <td>23075_22</td>\n",
       "      <td>23074</td>\n",
       "      <td>21</td>\n",
       "      <td>3.156</td>\n",
       "      <td>5.007926</td>\n",
       "      <td>3.505219</td>\n",
       "    </tr>\n",
       "    <tr>\n",
       "      <th>2</th>\n",
       "      <td>23172_22</td>\n",
       "      <td>23171</td>\n",
       "      <td>21</td>\n",
       "      <td>2.906</td>\n",
       "      <td>1.376034</td>\n",
       "      <td>3.505219</td>\n",
       "    </tr>\n",
       "    <tr>\n",
       "      <th>3</th>\n",
       "      <td>7283_22</td>\n",
       "      <td>7282</td>\n",
       "      <td>21</td>\n",
       "      <td>-2.938</td>\n",
       "      <td>-1.043389</td>\n",
       "      <td>3.505219</td>\n",
       "    </tr>\n",
       "    <tr>\n",
       "      <th>4</th>\n",
       "      <td>33971_22</td>\n",
       "      <td>33970</td>\n",
       "      <td>21</td>\n",
       "      <td>2.656</td>\n",
       "      <td>1.577067</td>\n",
       "      <td>3.505219</td>\n",
       "    </tr>\n",
       "    <tr>\n",
       "      <th>...</th>\n",
       "      <td>...</td>\n",
       "      <td>...</td>\n",
       "      <td>...</td>\n",
       "      <td>...</td>\n",
       "      <td>...</td>\n",
       "      <td>...</td>\n",
       "    </tr>\n",
       "    <tr>\n",
       "      <th>9995</th>\n",
       "      <td>552_63</td>\n",
       "      <td>551</td>\n",
       "      <td>62</td>\n",
       "      <td>-9.000</td>\n",
       "      <td>-4.695184</td>\n",
       "      <td>1.777240</td>\n",
       "    </tr>\n",
       "    <tr>\n",
       "      <th>9996</th>\n",
       "      <td>203_21</td>\n",
       "      <td>202</td>\n",
       "      <td>20</td>\n",
       "      <td>7.844</td>\n",
       "      <td>6.081095</td>\n",
       "      <td>2.169295</td>\n",
       "    </tr>\n",
       "    <tr>\n",
       "      <th>9997</th>\n",
       "      <td>18_21</td>\n",
       "      <td>17</td>\n",
       "      <td>20</td>\n",
       "      <td>2.656</td>\n",
       "      <td>-0.933760</td>\n",
       "      <td>2.169295</td>\n",
       "    </tr>\n",
       "    <tr>\n",
       "      <th>9998</th>\n",
       "      <td>407_70</td>\n",
       "      <td>406</td>\n",
       "      <td>69</td>\n",
       "      <td>8.375</td>\n",
       "      <td>0.968846</td>\n",
       "      <td>2.849964</td>\n",
       "    </tr>\n",
       "    <tr>\n",
       "      <th>9999</th>\n",
       "      <td>464_70</td>\n",
       "      <td>463</td>\n",
       "      <td>69</td>\n",
       "      <td>-5.000</td>\n",
       "      <td>1.994403</td>\n",
       "      <td>2.849964</td>\n",
       "    </tr>\n",
       "  </tbody>\n",
       "</table>\n",
       "<p>10000 rows × 6 columns</p>\n",
       "</div>"
      ],
      "text/plain": [
       "            id  user_id  joke_id  Rating   User_AV   joke_AV\n",
       "0     39893_22    39892       21  -0.281  1.522214  3.505219\n",
       "1     23075_22    23074       21   3.156  5.007926  3.505219\n",
       "2     23172_22    23171       21   2.906  1.376034  3.505219\n",
       "3      7283_22     7282       21  -2.938 -1.043389  3.505219\n",
       "4     33971_22    33970       21   2.656  1.577067  3.505219\n",
       "...        ...      ...      ...     ...       ...       ...\n",
       "9995    552_63      551       62  -9.000 -4.695184  1.777240\n",
       "9996    203_21      202       20   7.844  6.081095  2.169295\n",
       "9997     18_21       17       20   2.656 -0.933760  2.169295\n",
       "9998    407_70      406       69   8.375  0.968846  2.849964\n",
       "9999    464_70      463       69  -5.000  1.994403  2.849964\n",
       "\n",
       "[10000 rows x 6 columns]"
      ]
     },
     "execution_count": 15,
     "metadata": {},
     "output_type": "execute_result"
    }
   ],
   "source": [
    "test=test.merge(by_joke_AV,on='joke_id')\n",
    "test"
   ]
  },
  {
   "cell_type": "code",
   "execution_count": 16,
   "id": "e703eb69",
   "metadata": {},
   "outputs": [
    {
     "data": {
      "text/plain": [
       "4.52416766013762"
      ]
     },
     "execution_count": 16,
     "metadata": {},
     "output_type": "execute_result"
    }
   ],
   "source": [
    "realVals = test.Rating\n",
    "predictedVals = test.User_AV\n",
    "\n",
    "UArmse = mean_squared_error(realVals, predictedVals, squared = False)\n",
    "UArmse"
   ]
  },
  {
   "cell_type": "code",
   "execution_count": 17,
   "id": "9584b5cf",
   "metadata": {},
   "outputs": [
    {
     "data": {
      "text/plain": [
       "5.049905740176774"
      ]
     },
     "execution_count": 17,
     "metadata": {},
     "output_type": "execute_result"
    }
   ],
   "source": [
    "y_true = test.Rating\n",
    "y_pred = test.joke_AV\n",
    "\n",
    "JArmse = mean_squared_error(y_true, y_pred, squared = False)\n",
    "JArmse"
   ]
  },
  {
   "cell_type": "markdown",
   "id": "229f8d81",
   "metadata": {},
   "source": [
    "Για τους δυο αλγοριθμους των μεσων βαθμολογιων εχουμε RMSE= 4.52416766013762 για το μεσο ορο των χρηστων και RMSE= 5.049905740176774 για το μεσο ορο των αστειων "
   ]
  },
  {
   "cell_type": "markdown",
   "id": "122f2198",
   "metadata": {},
   "source": [
    "#  Βήμα 3:"
   ]
  },
  {
   "cell_type": "markdown",
   "id": "b295aa42",
   "metadata": {},
   "source": [
    "Αρχικα θα αλλαξουμε τις μηδενικες βαθμολογιες για να μη τις χασουμε στον αραιο πινακα ,σε πολυ μικρες "
   ]
  },
  {
   "cell_type": "code",
   "execution_count": 18,
   "id": "f2b5dbdc",
   "metadata": {},
   "outputs": [],
   "source": [
    "train = train.drop(\"id\",axis=1)"
   ]
  },
  {
   "cell_type": "code",
   "execution_count": 19,
   "id": "8c470ecc",
   "metadata": {},
   "outputs": [],
   "source": [
    "\n",
    "train=train.sort_values('joke_id')\n"
   ]
  },
  {
   "cell_type": "code",
   "execution_count": 20,
   "id": "b437fe8c",
   "metadata": {},
   "outputs": [
    {
     "data": {
      "text/html": [
       "<div>\n",
       "<style scoped>\n",
       "    .dataframe tbody tr th:only-of-type {\n",
       "        vertical-align: middle;\n",
       "    }\n",
       "\n",
       "    .dataframe tbody tr th {\n",
       "        vertical-align: top;\n",
       "    }\n",
       "\n",
       "    .dataframe thead th {\n",
       "        text-align: right;\n",
       "    }\n",
       "</style>\n",
       "<table border=\"1\" class=\"dataframe\">\n",
       "  <thead>\n",
       "    <tr style=\"text-align: right;\">\n",
       "      <th></th>\n",
       "      <th>user_id</th>\n",
       "      <th>Rating</th>\n",
       "    </tr>\n",
       "    <tr>\n",
       "      <th>joke_id</th>\n",
       "      <th></th>\n",
       "      <th></th>\n",
       "    </tr>\n",
       "  </thead>\n",
       "  <tbody>\n",
       "    <tr>\n",
       "      <th>0</th>\n",
       "      <td>341</td>\n",
       "      <td>-8.906</td>\n",
       "    </tr>\n",
       "    <tr>\n",
       "      <th>0</th>\n",
       "      <td>277</td>\n",
       "      <td>-6.500</td>\n",
       "    </tr>\n",
       "    <tr>\n",
       "      <th>0</th>\n",
       "      <td>229</td>\n",
       "      <td>-9.156</td>\n",
       "    </tr>\n",
       "    <tr>\n",
       "      <th>0</th>\n",
       "      <td>349</td>\n",
       "      <td>1.469</td>\n",
       "    </tr>\n",
       "    <tr>\n",
       "      <th>0</th>\n",
       "      <td>81</td>\n",
       "      <td>-7.281</td>\n",
       "    </tr>\n",
       "    <tr>\n",
       "      <th>...</th>\n",
       "      <td>...</td>\n",
       "      <td>...</td>\n",
       "    </tr>\n",
       "    <tr>\n",
       "      <th>138</th>\n",
       "      <td>10484</td>\n",
       "      <td>0.750</td>\n",
       "    </tr>\n",
       "    <tr>\n",
       "      <th>138</th>\n",
       "      <td>33636</td>\n",
       "      <td>2.188</td>\n",
       "    </tr>\n",
       "    <tr>\n",
       "      <th>138</th>\n",
       "      <td>38377</td>\n",
       "      <td>0.781</td>\n",
       "    </tr>\n",
       "    <tr>\n",
       "      <th>138</th>\n",
       "      <td>28445</td>\n",
       "      <td>8.250</td>\n",
       "    </tr>\n",
       "    <tr>\n",
       "      <th>138</th>\n",
       "      <td>38860</td>\n",
       "      <td>1.625</td>\n",
       "    </tr>\n",
       "  </tbody>\n",
       "</table>\n",
       "<p>1082058 rows × 2 columns</p>\n",
       "</div>"
      ],
      "text/plain": [
       "         user_id  Rating\n",
       "joke_id                 \n",
       "0            341  -8.906\n",
       "0            277  -6.500\n",
       "0            229  -9.156\n",
       "0            349   1.469\n",
       "0             81  -7.281\n",
       "...          ...     ...\n",
       "138        10484   0.750\n",
       "138        33636   2.188\n",
       "138        38377   0.781\n",
       "138        28445   8.250\n",
       "138        38860   1.625\n",
       "\n",
       "[1082058 rows x 2 columns]"
      ]
     },
     "execution_count": 20,
     "metadata": {},
     "output_type": "execute_result"
    }
   ],
   "source": [
    "train=train.set_index(\"joke_id\")\n",
    "train"
   ]
  },
  {
   "cell_type": "code",
   "execution_count": 21,
   "id": "d9c1f0ef",
   "metadata": {},
   "outputs": [
    {
     "data": {
      "text/plain": [
       "user_id      int64\n",
       "Rating     float64\n",
       "dtype: object"
      ]
     },
     "execution_count": 21,
     "metadata": {},
     "output_type": "execute_result"
    }
   ],
   "source": [
    "train.dtypes"
   ]
  },
  {
   "cell_type": "code",
   "execution_count": 22,
   "id": "018dbea0",
   "metadata": {},
   "outputs": [
    {
     "data": {
      "text/plain": [
       "2311"
      ]
     },
     "execution_count": 22,
     "metadata": {},
     "output_type": "execute_result"
    }
   ],
   "source": [
    "(train['Rating']==0).sum()"
   ]
  },
  {
   "cell_type": "code",
   "execution_count": 23,
   "id": "4a32af97",
   "metadata": {},
   "outputs": [
    {
     "data": {
      "text/plain": [
       "1005"
      ]
     },
     "execution_count": 23,
     "metadata": {},
     "output_type": "execute_result"
    }
   ],
   "source": [
    "(train['Rating']==10^-15).sum()"
   ]
  },
  {
   "cell_type": "code",
   "execution_count": 24,
   "id": "f0071d74",
   "metadata": {},
   "outputs": [],
   "source": [
    "train['Rating'].replace(to_replace=0,value=10^-15,inplace=True)"
   ]
  },
  {
   "cell_type": "code",
   "execution_count": 25,
   "id": "c2616bd5",
   "metadata": {},
   "outputs": [
    {
     "data": {
      "text/plain": [
       "0"
      ]
     },
     "execution_count": 25,
     "metadata": {},
     "output_type": "execute_result"
    }
   ],
   "source": [
    "(train['Rating']==0).sum()"
   ]
  },
  {
   "cell_type": "code",
   "execution_count": 26,
   "id": "18c13949",
   "metadata": {},
   "outputs": [
    {
     "data": {
      "text/plain": [
       "3316"
      ]
     },
     "execution_count": 26,
     "metadata": {},
     "output_type": "execute_result"
    }
   ],
   "source": [
    "(train['Rating']==10^-15).sum()"
   ]
  },
  {
   "cell_type": "code",
   "execution_count": 27,
   "id": "a474d283",
   "metadata": {},
   "outputs": [
    {
     "data": {
      "text/html": [
       "<div>\n",
       "<style scoped>\n",
       "    .dataframe tbody tr th:only-of-type {\n",
       "        vertical-align: middle;\n",
       "    }\n",
       "\n",
       "    .dataframe tbody tr th {\n",
       "        vertical-align: top;\n",
       "    }\n",
       "\n",
       "    .dataframe thead th {\n",
       "        text-align: right;\n",
       "    }\n",
       "</style>\n",
       "<table border=\"1\" class=\"dataframe\">\n",
       "  <thead>\n",
       "    <tr style=\"text-align: right;\">\n",
       "      <th></th>\n",
       "      <th>joke_id</th>\n",
       "      <th>user_id</th>\n",
       "      <th>Rating</th>\n",
       "    </tr>\n",
       "  </thead>\n",
       "  <tbody>\n",
       "    <tr>\n",
       "      <th>0</th>\n",
       "      <td>0</td>\n",
       "      <td>341</td>\n",
       "      <td>-8.906</td>\n",
       "    </tr>\n",
       "    <tr>\n",
       "      <th>1</th>\n",
       "      <td>0</td>\n",
       "      <td>277</td>\n",
       "      <td>-6.500</td>\n",
       "    </tr>\n",
       "    <tr>\n",
       "      <th>2</th>\n",
       "      <td>0</td>\n",
       "      <td>229</td>\n",
       "      <td>-9.156</td>\n",
       "    </tr>\n",
       "    <tr>\n",
       "      <th>3</th>\n",
       "      <td>0</td>\n",
       "      <td>349</td>\n",
       "      <td>1.469</td>\n",
       "    </tr>\n",
       "    <tr>\n",
       "      <th>4</th>\n",
       "      <td>0</td>\n",
       "      <td>81</td>\n",
       "      <td>-7.281</td>\n",
       "    </tr>\n",
       "    <tr>\n",
       "      <th>...</th>\n",
       "      <td>...</td>\n",
       "      <td>...</td>\n",
       "      <td>...</td>\n",
       "    </tr>\n",
       "    <tr>\n",
       "      <th>1082053</th>\n",
       "      <td>138</td>\n",
       "      <td>10484</td>\n",
       "      <td>0.750</td>\n",
       "    </tr>\n",
       "    <tr>\n",
       "      <th>1082054</th>\n",
       "      <td>138</td>\n",
       "      <td>33636</td>\n",
       "      <td>2.188</td>\n",
       "    </tr>\n",
       "    <tr>\n",
       "      <th>1082055</th>\n",
       "      <td>138</td>\n",
       "      <td>38377</td>\n",
       "      <td>0.781</td>\n",
       "    </tr>\n",
       "    <tr>\n",
       "      <th>1082056</th>\n",
       "      <td>138</td>\n",
       "      <td>28445</td>\n",
       "      <td>8.250</td>\n",
       "    </tr>\n",
       "    <tr>\n",
       "      <th>1082057</th>\n",
       "      <td>138</td>\n",
       "      <td>38860</td>\n",
       "      <td>1.625</td>\n",
       "    </tr>\n",
       "  </tbody>\n",
       "</table>\n",
       "<p>1082058 rows × 3 columns</p>\n",
       "</div>"
      ],
      "text/plain": [
       "         joke_id  user_id  Rating\n",
       "0              0      341  -8.906\n",
       "1              0      277  -6.500\n",
       "2              0      229  -9.156\n",
       "3              0      349   1.469\n",
       "4              0       81  -7.281\n",
       "...          ...      ...     ...\n",
       "1082053      138    10484   0.750\n",
       "1082054      138    33636   2.188\n",
       "1082055      138    38377   0.781\n",
       "1082056      138    28445   8.250\n",
       "1082057      138    38860   1.625\n",
       "\n",
       "[1082058 rows x 3 columns]"
      ]
     },
     "execution_count": 27,
     "metadata": {},
     "output_type": "execute_result"
    }
   ],
   "source": [
    "train=train.reset_index()\n",
    "train"
   ]
  },
  {
   "cell_type": "markdown",
   "id": "a8c3d9f0",
   "metadata": {},
   "source": [
    "Δημιουργουμε τον αραιο πινακα και οριζουμε τον αλγοριθμο UCF"
   ]
  },
  {
   "cell_type": "code",
   "execution_count": 28,
   "id": "cb92e346",
   "metadata": {
    "scrolled": true
   },
   "outputs": [],
   "source": [
    "Ru= sp_sparse.lil_matrix((139,40863))\n",
    "Ru[train.joke_id,train.user_id]=train.Rating"
   ]
  },
  {
   "cell_type": "code",
   "execution_count": 29,
   "id": "f36c5c68",
   "metadata": {},
   "outputs": [],
   "source": [
    "def UCF(user,joke,k,X):\n",
    "    \n",
    "    mtcu=sp_sparse.csc_matrix(X)\n",
    "    su=mtcu[joke].getnnz(axis=0) #\n",
    "    u=np.where(su != 0)[0]       # users that rate the joke\n",
    "    x=len(u)\n",
    "    dataset = pd.DataFrame() # για να βρω την προβλεψη χρισιμοποιησα dataframe \n",
    "    dataset[\"users\"]=u       # κραταω τους χρηστες για index\n",
    "    cos_sim=cosine_similarity(mtcu.T[user],mtcu.T[u[0:x]],dense_output=False)\n",
    "    cos_sim=cos_sim.todense()# αφου βρισκω την ομοιοτητα των χρηστων την\n",
    "    cos_simd=cos_sim.tolist()# μετατρεπω σε λιστα για να το βαλω στο dataFrame\n",
    "    \n",
    "    rt=X[joke,u[:]].todense()# με τον ιδιο τροπο παιρνω και τη βαθμολογια του \n",
    "    rating=rt.tolist()       # χρηστη για να υπολογισω την προβλεψη\n",
    "    \n",
    "    dataset[\"rating\"]=np.resize(rating,len(dataset)) # βαθμολογια\n",
    "    \n",
    "    dataset[\"cos_sim\"]=np.resize(cos_simd,len(dataset)) # προβλεψη\n",
    "    \n",
    "    dataset= dataset.sort_values(by=[\"cos_sim\"],ascending=False)# ταξινομω το dataset \n",
    "    dataset=dataset.reset_index()\n",
    "    dataset=dataset.drop([\"index\"],axis=1)\n",
    "    \n",
    "    if(dataset.loc[0,'cos_sim']>0.99): # αφαιρω το πρωτο αν ειναι ενα\n",
    "        dataset= dataset.iloc[1:,:]    # δε θελω τον χρηστη που συγκρινω\n",
    "    \n",
    "    if len(dataset)>k:                #κραταω τους κ ομοιους \n",
    "        dataset = dataset.iloc[:k,:]\n",
    "    \n",
    "    # υπολογιζω την ομοιοτητα επι την βαθμολογια     \n",
    "    dataset['numer']=dataset.apply(lambda row: (row['cos_sim']*row['rating']),axis=1)   \n",
    "    #βρισκω τα αθροισματα \n",
    "    rP=dataset.numer.sum()\n",
    "    Ss=dataset.cos_sim.sum()\n",
    "    \n",
    "    PR=rP/Ss # predicted value\n",
    "   \n",
    "    del dataset\n",
    "    \n",
    "    return(PR)"
   ]
  },
  {
   "cell_type": "code",
   "execution_count": 31,
   "id": "ed44b7b2",
   "metadata": {},
   "outputs": [
    {
     "name": "stdout",
     "output_type": "stream",
     "text": [
      "-0.8033017039432313 0:00:00.074360\n"
     ]
    }
   ],
   "source": [
    "now = datetime.now()\n",
    "x=UCF(17,20,5,Ru)\n",
    "after=datetime.now()\n",
    "delta=after-now\n",
    "print(x,delta)"
   ]
  },
  {
   "cell_type": "markdown",
   "id": "656c6f3d",
   "metadata": {},
   "source": [
    "Για να αποθηκευσω της προβλεψεις της UCF πηρα ενα αντιγραφω του test "
   ]
  },
  {
   "cell_type": "code",
   "execution_count": 32,
   "id": "0a368661",
   "metadata": {},
   "outputs": [
    {
     "data": {
      "text/html": [
       "<div>\n",
       "<style scoped>\n",
       "    .dataframe tbody tr th:only-of-type {\n",
       "        vertical-align: middle;\n",
       "    }\n",
       "\n",
       "    .dataframe tbody tr th {\n",
       "        vertical-align: top;\n",
       "    }\n",
       "\n",
       "    .dataframe thead th {\n",
       "        text-align: right;\n",
       "    }\n",
       "</style>\n",
       "<table border=\"1\" class=\"dataframe\">\n",
       "  <thead>\n",
       "    <tr style=\"text-align: right;\">\n",
       "      <th></th>\n",
       "      <th>user_id</th>\n",
       "      <th>joke_id</th>\n",
       "      <th>Rating</th>\n",
       "    </tr>\n",
       "  </thead>\n",
       "  <tbody>\n",
       "    <tr>\n",
       "      <th>0</th>\n",
       "      <td>39892</td>\n",
       "      <td>21</td>\n",
       "      <td>-0.281</td>\n",
       "    </tr>\n",
       "    <tr>\n",
       "      <th>1</th>\n",
       "      <td>23074</td>\n",
       "      <td>21</td>\n",
       "      <td>3.156</td>\n",
       "    </tr>\n",
       "    <tr>\n",
       "      <th>2</th>\n",
       "      <td>23171</td>\n",
       "      <td>21</td>\n",
       "      <td>2.906</td>\n",
       "    </tr>\n",
       "    <tr>\n",
       "      <th>3</th>\n",
       "      <td>7282</td>\n",
       "      <td>21</td>\n",
       "      <td>-2.938</td>\n",
       "    </tr>\n",
       "    <tr>\n",
       "      <th>4</th>\n",
       "      <td>33970</td>\n",
       "      <td>21</td>\n",
       "      <td>2.656</td>\n",
       "    </tr>\n",
       "    <tr>\n",
       "      <th>...</th>\n",
       "      <td>...</td>\n",
       "      <td>...</td>\n",
       "      <td>...</td>\n",
       "    </tr>\n",
       "    <tr>\n",
       "      <th>9995</th>\n",
       "      <td>551</td>\n",
       "      <td>62</td>\n",
       "      <td>-9.000</td>\n",
       "    </tr>\n",
       "    <tr>\n",
       "      <th>9996</th>\n",
       "      <td>202</td>\n",
       "      <td>20</td>\n",
       "      <td>7.844</td>\n",
       "    </tr>\n",
       "    <tr>\n",
       "      <th>9997</th>\n",
       "      <td>17</td>\n",
       "      <td>20</td>\n",
       "      <td>2.656</td>\n",
       "    </tr>\n",
       "    <tr>\n",
       "      <th>9998</th>\n",
       "      <td>406</td>\n",
       "      <td>69</td>\n",
       "      <td>8.375</td>\n",
       "    </tr>\n",
       "    <tr>\n",
       "      <th>9999</th>\n",
       "      <td>463</td>\n",
       "      <td>69</td>\n",
       "      <td>-5.000</td>\n",
       "    </tr>\n",
       "  </tbody>\n",
       "</table>\n",
       "<p>10000 rows × 3 columns</p>\n",
       "</div>"
      ],
      "text/plain": [
       "      user_id  joke_id  Rating\n",
       "0       39892       21  -0.281\n",
       "1       23074       21   3.156\n",
       "2       23171       21   2.906\n",
       "3        7282       21  -2.938\n",
       "4       33970       21   2.656\n",
       "...       ...      ...     ...\n",
       "9995      551       62  -9.000\n",
       "9996      202       20   7.844\n",
       "9997       17       20   2.656\n",
       "9998      406       69   8.375\n",
       "9999      463       69  -5.000\n",
       "\n",
       "[10000 rows x 3 columns]"
      ]
     },
     "execution_count": 32,
     "metadata": {},
     "output_type": "execute_result"
    }
   ],
   "source": [
    "testUCF=pd.DataFrame()\n",
    "testUCF[\"user_id\"]=test[\"user_id\"]\n",
    "testUCF[\"joke_id\"]=test[\"joke_id\"]\n",
    "testUCF[\"Rating\"]=test[\"Rating\"]\n",
    "testUCF"
   ]
  },
  {
   "cell_type": "code",
   "execution_count": 33,
   "id": "54dca9cf",
   "metadata": {},
   "outputs": [
    {
     "name": "stdout",
     "output_type": "stream",
     "text": [
      "0:09:13.215115\n"
     ]
    }
   ],
   "source": [
    "now = datetime.now()\n",
    "testUCF[\"UCF_10\"]=testUCF.apply(lambda row: UCF(row['user_id'],row['joke_id'],10,Ru),axis=1)\n",
    "after=datetime.now()\n",
    "delta=after-now\n",
    "print(delta)"
   ]
  },
  {
   "cell_type": "code",
   "execution_count": 34,
   "id": "6fa648da",
   "metadata": {},
   "outputs": [
    {
     "data": {
      "text/plain": [
       "datetime.timedelta(seconds=538, microseconds=366620)"
      ]
     },
     "execution_count": 34,
     "metadata": {},
     "output_type": "execute_result"
    }
   ],
   "source": [
    "now = datetime.now()\n",
    "testUCF[\"UCF_25\"]=testUCF.apply(lambda row: UCF(row['user_id'],row['joke_id'],25,Ru),axis=1)\n",
    "after=datetime.now()\n",
    "delta=after-now\n",
    "delta"
   ]
  },
  {
   "cell_type": "code",
   "execution_count": 35,
   "id": "d66712db",
   "metadata": {},
   "outputs": [
    {
     "data": {
      "text/plain": [
       "datetime.timedelta(seconds=544, microseconds=463806)"
      ]
     },
     "execution_count": 35,
     "metadata": {},
     "output_type": "execute_result"
    }
   ],
   "source": [
    "now = datetime.now()\n",
    "testUCF[\"UCF_50\"]=testUCF.apply(lambda row: UCF(row['user_id'],row['joke_id'],50,Ru),axis=1)\n",
    "after=datetime.now()\n",
    "delta=after-now\n",
    "delta"
   ]
  },
  {
   "cell_type": "code",
   "execution_count": 36,
   "id": "02714435",
   "metadata": {},
   "outputs": [
    {
     "data": {
      "text/plain": [
       "datetime.timedelta(seconds=553, microseconds=314167)"
      ]
     },
     "execution_count": 36,
     "metadata": {},
     "output_type": "execute_result"
    }
   ],
   "source": [
    "now = datetime.now()\n",
    "testUCF[\"UCF_75\"]=testUCF.apply(lambda row: UCF(row['user_id'],row['joke_id'],75,Ru),axis=1)\n",
    "after=datetime.now()\n",
    "delta=after-now\n",
    "delta"
   ]
  },
  {
   "cell_type": "code",
   "execution_count": 37,
   "id": "1e1a13b3",
   "metadata": {},
   "outputs": [
    {
     "data": {
      "text/plain": [
       "datetime.timedelta(seconds=555, microseconds=626731)"
      ]
     },
     "execution_count": 37,
     "metadata": {},
     "output_type": "execute_result"
    }
   ],
   "source": [
    "now = datetime.now()\n",
    "testUCF[\"UCF_100\"]=testUCF.apply(lambda row: UCF(row['user_id'],row['joke_id'],100,Ru),axis=1)\n",
    "after=datetime.now()\n",
    "delta=after-now\n",
    "delta"
   ]
  },
  {
   "cell_type": "code",
   "execution_count": 38,
   "id": "41c25f54",
   "metadata": {},
   "outputs": [
    {
     "data": {
      "text/html": [
       "<div>\n",
       "<style scoped>\n",
       "    .dataframe tbody tr th:only-of-type {\n",
       "        vertical-align: middle;\n",
       "    }\n",
       "\n",
       "    .dataframe tbody tr th {\n",
       "        vertical-align: top;\n",
       "    }\n",
       "\n",
       "    .dataframe thead th {\n",
       "        text-align: right;\n",
       "    }\n",
       "</style>\n",
       "<table border=\"1\" class=\"dataframe\">\n",
       "  <thead>\n",
       "    <tr style=\"text-align: right;\">\n",
       "      <th></th>\n",
       "      <th>user_id</th>\n",
       "      <th>joke_id</th>\n",
       "      <th>Rating</th>\n",
       "      <th>UCF_10</th>\n",
       "      <th>UCF_25</th>\n",
       "      <th>UCF_50</th>\n",
       "      <th>UCF_75</th>\n",
       "      <th>UCF_100</th>\n",
       "    </tr>\n",
       "  </thead>\n",
       "  <tbody>\n",
       "    <tr>\n",
       "      <th>0</th>\n",
       "      <td>39892</td>\n",
       "      <td>21</td>\n",
       "      <td>-0.281</td>\n",
       "      <td>4.665842</td>\n",
       "      <td>4.004185</td>\n",
       "      <td>4.573340</td>\n",
       "      <td>4.512424</td>\n",
       "      <td>4.538893</td>\n",
       "    </tr>\n",
       "    <tr>\n",
       "      <th>1</th>\n",
       "      <td>23074</td>\n",
       "      <td>21</td>\n",
       "      <td>3.156</td>\n",
       "      <td>5.154305</td>\n",
       "      <td>5.721710</td>\n",
       "      <td>5.738219</td>\n",
       "      <td>5.747143</td>\n",
       "      <td>5.725966</td>\n",
       "    </tr>\n",
       "    <tr>\n",
       "      <th>2</th>\n",
       "      <td>23171</td>\n",
       "      <td>21</td>\n",
       "      <td>2.906</td>\n",
       "      <td>4.780039</td>\n",
       "      <td>5.370741</td>\n",
       "      <td>5.080302</td>\n",
       "      <td>4.969697</td>\n",
       "      <td>4.943914</td>\n",
       "    </tr>\n",
       "    <tr>\n",
       "      <th>3</th>\n",
       "      <td>7282</td>\n",
       "      <td>21</td>\n",
       "      <td>-2.938</td>\n",
       "      <td>0.360368</td>\n",
       "      <td>0.982652</td>\n",
       "      <td>0.740086</td>\n",
       "      <td>1.153763</td>\n",
       "      <td>1.293460</td>\n",
       "    </tr>\n",
       "    <tr>\n",
       "      <th>4</th>\n",
       "      <td>33970</td>\n",
       "      <td>21</td>\n",
       "      <td>2.656</td>\n",
       "      <td>6.161682</td>\n",
       "      <td>5.160916</td>\n",
       "      <td>5.066742</td>\n",
       "      <td>5.223191</td>\n",
       "      <td>4.785745</td>\n",
       "    </tr>\n",
       "    <tr>\n",
       "      <th>...</th>\n",
       "      <td>...</td>\n",
       "      <td>...</td>\n",
       "      <td>...</td>\n",
       "      <td>...</td>\n",
       "      <td>...</td>\n",
       "      <td>...</td>\n",
       "      <td>...</td>\n",
       "      <td>...</td>\n",
       "    </tr>\n",
       "    <tr>\n",
       "      <th>9995</th>\n",
       "      <td>551</td>\n",
       "      <td>62</td>\n",
       "      <td>-9.000</td>\n",
       "      <td>-4.976738</td>\n",
       "      <td>-5.852655</td>\n",
       "      <td>12.110698</td>\n",
       "      <td>4.635792</td>\n",
       "      <td>3.508019</td>\n",
       "    </tr>\n",
       "    <tr>\n",
       "      <th>9996</th>\n",
       "      <td>202</td>\n",
       "      <td>20</td>\n",
       "      <td>7.844</td>\n",
       "      <td>6.931258</td>\n",
       "      <td>6.004267</td>\n",
       "      <td>5.665822</td>\n",
       "      <td>4.856817</td>\n",
       "      <td>4.559526</td>\n",
       "    </tr>\n",
       "    <tr>\n",
       "      <th>9997</th>\n",
       "      <td>17</td>\n",
       "      <td>20</td>\n",
       "      <td>2.656</td>\n",
       "      <td>0.845603</td>\n",
       "      <td>0.617517</td>\n",
       "      <td>0.621327</td>\n",
       "      <td>1.035888</td>\n",
       "      <td>0.898137</td>\n",
       "    </tr>\n",
       "    <tr>\n",
       "      <th>9998</th>\n",
       "      <td>406</td>\n",
       "      <td>69</td>\n",
       "      <td>8.375</td>\n",
       "      <td>1.935353</td>\n",
       "      <td>3.256517</td>\n",
       "      <td>3.346213</td>\n",
       "      <td>2.795113</td>\n",
       "      <td>2.765426</td>\n",
       "    </tr>\n",
       "    <tr>\n",
       "      <th>9999</th>\n",
       "      <td>463</td>\n",
       "      <td>69</td>\n",
       "      <td>-5.000</td>\n",
       "      <td>5.495276</td>\n",
       "      <td>5.647997</td>\n",
       "      <td>4.858004</td>\n",
       "      <td>4.614270</td>\n",
       "      <td>4.851367</td>\n",
       "    </tr>\n",
       "  </tbody>\n",
       "</table>\n",
       "<p>10000 rows × 8 columns</p>\n",
       "</div>"
      ],
      "text/plain": [
       "      user_id  joke_id  Rating    UCF_10    UCF_25     UCF_50    UCF_75  \\\n",
       "0       39892       21  -0.281  4.665842  4.004185   4.573340  4.512424   \n",
       "1       23074       21   3.156  5.154305  5.721710   5.738219  5.747143   \n",
       "2       23171       21   2.906  4.780039  5.370741   5.080302  4.969697   \n",
       "3        7282       21  -2.938  0.360368  0.982652   0.740086  1.153763   \n",
       "4       33970       21   2.656  6.161682  5.160916   5.066742  5.223191   \n",
       "...       ...      ...     ...       ...       ...        ...       ...   \n",
       "9995      551       62  -9.000 -4.976738 -5.852655  12.110698  4.635792   \n",
       "9996      202       20   7.844  6.931258  6.004267   5.665822  4.856817   \n",
       "9997       17       20   2.656  0.845603  0.617517   0.621327  1.035888   \n",
       "9998      406       69   8.375  1.935353  3.256517   3.346213  2.795113   \n",
       "9999      463       69  -5.000  5.495276  5.647997   4.858004  4.614270   \n",
       "\n",
       "       UCF_100  \n",
       "0     4.538893  \n",
       "1     5.725966  \n",
       "2     4.943914  \n",
       "3     1.293460  \n",
       "4     4.785745  \n",
       "...        ...  \n",
       "9995  3.508019  \n",
       "9996  4.559526  \n",
       "9997  0.898137  \n",
       "9998  2.765426  \n",
       "9999  4.851367  \n",
       "\n",
       "[10000 rows x 8 columns]"
      ]
     },
     "execution_count": 38,
     "metadata": {},
     "output_type": "execute_result"
    }
   ],
   "source": [
    "testUCF"
   ]
  },
  {
   "cell_type": "code",
   "execution_count": 39,
   "id": "effa41da",
   "metadata": {},
   "outputs": [
    {
     "data": {
      "text/plain": [
       "<matplotlib.collections.PathCollection at 0x26a71a4e5e0>"
      ]
     },
     "execution_count": 39,
     "metadata": {},
     "output_type": "execute_result"
    },
    {
     "data": {
      "image/png": "[encoded data removed]",
      "text/plain": [
       "<Figure size 432x288 with 1 Axes>"
      ]
     },
     "metadata": {
      "needs_background": "light"
     },
     "output_type": "display_data"
    }
   ],
   "source": [
    "rmse_UCF= pd.DataFrame()\n",
    "for k in [10,25,50,75,100]:\n",
    "    ks='UCF_'+str(k)\n",
    "    realVals=testUCF[\"Rating\"]\n",
    "    predictedVals=testUCF[ks]\n",
    "    rmse_UCF.loc[ks,['RMSE']]=mean_squared_error(realVals, predictedVals, squared = False)\n",
    "rmse_UCF\n",
    "plt.scatter(rmse_UCF.index,rmse_UCF.RMSE)"
   ]
  },
  {
   "cell_type": "code",
   "execution_count": 77,
   "id": "eaab272c",
   "metadata": {},
   "outputs": [
    {
     "data": {
      "text/html": [
       "<div>\n",
       "<style scoped>\n",
       "    .dataframe tbody tr th:only-of-type {\n",
       "        vertical-align: middle;\n",
       "    }\n",
       "\n",
       "    .dataframe tbody tr th {\n",
       "        vertical-align: top;\n",
       "    }\n",
       "\n",
       "    .dataframe thead th {\n",
       "        text-align: right;\n",
       "    }\n",
       "</style>\n",
       "<table border=\"1\" class=\"dataframe\">\n",
       "  <thead>\n",
       "    <tr style=\"text-align: right;\">\n",
       "      <th></th>\n",
       "      <th>RMSE</th>\n",
       "    </tr>\n",
       "  </thead>\n",
       "  <tbody>\n",
       "    <tr>\n",
       "      <th>UCF_10</th>\n",
       "      <td>4.500152</td>\n",
       "    </tr>\n",
       "    <tr>\n",
       "      <th>UCF_25</th>\n",
       "      <td>4.420347</td>\n",
       "    </tr>\n",
       "    <tr>\n",
       "      <th>UCF_50</th>\n",
       "      <td>4.484620</td>\n",
       "    </tr>\n",
       "    <tr>\n",
       "      <th>UCF_75</th>\n",
       "      <td>4.401225</td>\n",
       "    </tr>\n",
       "    <tr>\n",
       "      <th>UCF_100</th>\n",
       "      <td>4.397810</td>\n",
       "    </tr>\n",
       "  </tbody>\n",
       "</table>\n",
       "</div>"
      ],
      "text/plain": [
       "             RMSE\n",
       "UCF_10   4.500152\n",
       "UCF_25   4.420347\n",
       "UCF_50   4.484620\n",
       "UCF_75   4.401225\n",
       "UCF_100  4.397810"
      ]
     },
     "execution_count": 77,
     "metadata": {},
     "output_type": "execute_result"
    }
   ],
   "source": [
    "rmse_UCF"
   ]
  },
  {
   "cell_type": "markdown",
   "id": "e95d9ab9",
   "metadata": {},
   "source": [
    "Βλεπουμε οτι το μικροτερο RMSE το περνουμε για κ=100 αλλα δεν εχει πολυ μεγαλη διαφορα απο το προηγουμενο.Ο αλγοριθμος πηρε περιπου 10 λεπτα για καθε κ "
   ]
  },
  {
   "cell_type": "code",
   "execution_count": 40,
   "id": "856dc64d",
   "metadata": {},
   "outputs": [],
   "source": [
    "# compression_opts = dict(method='zip',archive_name='out2.csv')  \n",
    "# test.to_csv('out2.zip', index=True,compression=compression_opts)"
   ]
  },
  {
   "cell_type": "markdown",
   "id": "fc58b422",
   "metadata": {},
   "source": [
    "# Βήμα 4:\n"
   ]
  },
  {
   "cell_type": "markdown",
   "id": "1ec69271",
   "metadata": {},
   "source": [
    "Με τον ιδιο τροπο οπως στον UCF αλλα με ανεστραμενο πινακα οπου χριαζεται"
   ]
  },
  {
   "cell_type": "code",
   "execution_count": 34,
   "id": "20f2844e",
   "metadata": {},
   "outputs": [],
   "source": [
    "def ICF(user,joke,k,X):\n",
    "    \n",
    "    mtcu=sp_sparse.csc_matrix(X)\n",
    "    sj=mtcu.T[user].getnnz(axis=0)\n",
    "    j=np.where(sj != 0)[0]\n",
    "    l=len(j)\n",
    "    \n",
    "    dataset = pd.DataFrame()\n",
    "    dataset[\"joke\"]=j\n",
    "    \n",
    "    cos_sim=cosine_similarity(mtcu[joke],mtcu[j[0:l]],dense_output=False)\n",
    "    cos_sim=cos_sim.todense()\n",
    "    cos_simd=cos_sim.tolist()\n",
    "    \n",
    "    rt=X[j[:],user].todense()\n",
    "    rating=rt.tolist()\n",
    "    \n",
    "    dataset[\"rating\"]=np.resize(rating,len(dataset))\n",
    "    \n",
    "    dataset[\"cos_sim\"]=np.resize(cos_simd,len(dataset))\n",
    "    \n",
    "    dataset= dataset.sort_values(by=[\"cos_sim\"],ascending=False)\n",
    "    dataset=dataset.reset_index()\n",
    "    dataset=dataset.drop([\"index\"],axis=1)\n",
    "    \n",
    "    if(dataset.loc[0,'cos_sim']>0.99):\n",
    "        dataset= dataset.iloc[1:,:]\n",
    "    \n",
    "    if len(dataset)>k:\n",
    "        dataset = dataset.iloc[:k,:]\n",
    "        \n",
    "    dataset['numer']=dataset.apply(lambda row: (row['cos_sim']*row['rating']),axis=1)   \n",
    "    \n",
    "    rP=dataset.numer.sum()\n",
    "    Ss=dataset.cos_sim.sum()\n",
    "    \n",
    "    x=rP/Ss\n",
    "    \n",
    "    del dataset\n",
    "    \n",
    "    return(x)"
   ]
  },
  {
   "cell_type": "code",
   "execution_count": 35,
   "id": "67043a3a",
   "metadata": {},
   "outputs": [
    {
     "name": "stdout",
     "output_type": "stream",
     "text": [
      "-0.38924365832911045 0:00:00.058018\n"
     ]
    }
   ],
   "source": [
    "now = datetime.now()\n",
    "x=ICF(17,20,5,Ru)\n",
    "after=datetime.now()\n",
    "delta=after-now\n",
    "delta\n",
    "print(x,delta)"
   ]
  },
  {
   "cell_type": "code",
   "execution_count": 43,
   "id": "e8ed5cc1",
   "metadata": {},
   "outputs": [
    {
     "data": {
      "text/html": [
       "<div>\n",
       "<style scoped>\n",
       "    .dataframe tbody tr th:only-of-type {\n",
       "        vertical-align: middle;\n",
       "    }\n",
       "\n",
       "    .dataframe tbody tr th {\n",
       "        vertical-align: top;\n",
       "    }\n",
       "\n",
       "    .dataframe thead th {\n",
       "        text-align: right;\n",
       "    }\n",
       "</style>\n",
       "<table border=\"1\" class=\"dataframe\">\n",
       "  <thead>\n",
       "    <tr style=\"text-align: right;\">\n",
       "      <th></th>\n",
       "      <th>user_id</th>\n",
       "      <th>joke_id</th>\n",
       "      <th>Rating</th>\n",
       "    </tr>\n",
       "  </thead>\n",
       "  <tbody>\n",
       "    <tr>\n",
       "      <th>0</th>\n",
       "      <td>39892</td>\n",
       "      <td>21</td>\n",
       "      <td>-0.281</td>\n",
       "    </tr>\n",
       "    <tr>\n",
       "      <th>1</th>\n",
       "      <td>23074</td>\n",
       "      <td>21</td>\n",
       "      <td>3.156</td>\n",
       "    </tr>\n",
       "    <tr>\n",
       "      <th>2</th>\n",
       "      <td>23171</td>\n",
       "      <td>21</td>\n",
       "      <td>2.906</td>\n",
       "    </tr>\n",
       "    <tr>\n",
       "      <th>3</th>\n",
       "      <td>7282</td>\n",
       "      <td>21</td>\n",
       "      <td>-2.938</td>\n",
       "    </tr>\n",
       "    <tr>\n",
       "      <th>4</th>\n",
       "      <td>33970</td>\n",
       "      <td>21</td>\n",
       "      <td>2.656</td>\n",
       "    </tr>\n",
       "    <tr>\n",
       "      <th>...</th>\n",
       "      <td>...</td>\n",
       "      <td>...</td>\n",
       "      <td>...</td>\n",
       "    </tr>\n",
       "    <tr>\n",
       "      <th>9995</th>\n",
       "      <td>551</td>\n",
       "      <td>62</td>\n",
       "      <td>-9.000</td>\n",
       "    </tr>\n",
       "    <tr>\n",
       "      <th>9996</th>\n",
       "      <td>202</td>\n",
       "      <td>20</td>\n",
       "      <td>7.844</td>\n",
       "    </tr>\n",
       "    <tr>\n",
       "      <th>9997</th>\n",
       "      <td>17</td>\n",
       "      <td>20</td>\n",
       "      <td>2.656</td>\n",
       "    </tr>\n",
       "    <tr>\n",
       "      <th>9998</th>\n",
       "      <td>406</td>\n",
       "      <td>69</td>\n",
       "      <td>8.375</td>\n",
       "    </tr>\n",
       "    <tr>\n",
       "      <th>9999</th>\n",
       "      <td>463</td>\n",
       "      <td>69</td>\n",
       "      <td>-5.000</td>\n",
       "    </tr>\n",
       "  </tbody>\n",
       "</table>\n",
       "<p>10000 rows × 3 columns</p>\n",
       "</div>"
      ],
      "text/plain": [
       "      user_id  joke_id  Rating\n",
       "0       39892       21  -0.281\n",
       "1       23074       21   3.156\n",
       "2       23171       21   2.906\n",
       "3        7282       21  -2.938\n",
       "4       33970       21   2.656\n",
       "...       ...      ...     ...\n",
       "9995      551       62  -9.000\n",
       "9996      202       20   7.844\n",
       "9997       17       20   2.656\n",
       "9998      406       69   8.375\n",
       "9999      463       69  -5.000\n",
       "\n",
       "[10000 rows x 3 columns]"
      ]
     },
     "execution_count": 43,
     "metadata": {},
     "output_type": "execute_result"
    }
   ],
   "source": [
    "testICF=pd.DataFrame()\n",
    "testICF[\"user_id\"]=test[\"user_id\"]\n",
    "testICF[\"joke_id\"]=test[\"joke_id\"]\n",
    "testICF[\"Rating\"]=test[\"Rating\"]\n",
    "testICF"
   ]
  },
  {
   "cell_type": "code",
   "execution_count": 44,
   "id": "7d441265",
   "metadata": {},
   "outputs": [
    {
     "name": "stdout",
     "output_type": "stream",
     "text": [
      "0:08:56.353378\n"
     ]
    }
   ],
   "source": [
    "now = datetime.now()\n",
    "testICF[\"ICF_1\"]=testICF.apply(lambda row: ICF(row['user_id'],row['joke_id'],1,Ru),axis=1)\n",
    "after=datetime.now()\n",
    "delta=after-now\n",
    "print(delta)"
   ]
  },
  {
   "cell_type": "code",
   "execution_count": 45,
   "id": "3b5b9116",
   "metadata": {},
   "outputs": [
    {
     "data": {
      "text/plain": [
       "datetime.timedelta(seconds=529, microseconds=927505)"
      ]
     },
     "execution_count": 45,
     "metadata": {},
     "output_type": "execute_result"
    }
   ],
   "source": [
    "now = datetime.now()\n",
    "testICF[\"ICF_2\"]=testICF.apply(lambda row: ICF(row['user_id'],row['joke_id'],2,Ru),axis=1)\n",
    "after=datetime.now()\n",
    "delta=after-now\n",
    "delta"
   ]
  },
  {
   "cell_type": "code",
   "execution_count": 46,
   "id": "54b67278",
   "metadata": {},
   "outputs": [
    {
     "data": {
      "text/plain": [
       "datetime.timedelta(seconds=529, microseconds=107818)"
      ]
     },
     "execution_count": 46,
     "metadata": {},
     "output_type": "execute_result"
    }
   ],
   "source": [
    "now = datetime.now()\n",
    "testICF[\"ICF_5\"]=testICF.apply(lambda row: ICF(row['user_id'],row['joke_id'],5,Ru),axis=1)\n",
    "after=datetime.now()\n",
    "delta=after-now\n",
    "delta"
   ]
  },
  {
   "cell_type": "code",
   "execution_count": 47,
   "id": "0030e4a3",
   "metadata": {},
   "outputs": [
    {
     "data": {
      "text/plain": [
       "datetime.timedelta(seconds=530, microseconds=293815)"
      ]
     },
     "execution_count": 47,
     "metadata": {},
     "output_type": "execute_result"
    }
   ],
   "source": [
    "now = datetime.now()\n",
    "testICF[\"ICF_7\"]=testICF.apply(lambda row: ICF(row['user_id'],row['joke_id'],7,Ru),axis=1)\n",
    "after=datetime.now()\n",
    "delta=after-now\n",
    "delta"
   ]
  },
  {
   "cell_type": "code",
   "execution_count": 48,
   "id": "cefbe9e6",
   "metadata": {},
   "outputs": [
    {
     "data": {
      "text/plain": [
       "datetime.timedelta(seconds=525, microseconds=400353)"
      ]
     },
     "execution_count": 48,
     "metadata": {},
     "output_type": "execute_result"
    }
   ],
   "source": [
    "now = datetime.now()\n",
    "testICF[\"ICF_10\"]=testICF.apply(lambda row: ICF(row['user_id'],row['joke_id'],10,Ru),axis=1)\n",
    "after=datetime.now()\n",
    "delta=after-now\n",
    "delta"
   ]
  },
  {
   "cell_type": "code",
   "execution_count": 49,
   "id": "c3b6f103",
   "metadata": {},
   "outputs": [
    {
     "data": {
      "text/html": [
       "<div>\n",
       "<style scoped>\n",
       "    .dataframe tbody tr th:only-of-type {\n",
       "        vertical-align: middle;\n",
       "    }\n",
       "\n",
       "    .dataframe tbody tr th {\n",
       "        vertical-align: top;\n",
       "    }\n",
       "\n",
       "    .dataframe thead th {\n",
       "        text-align: right;\n",
       "    }\n",
       "</style>\n",
       "<table border=\"1\" class=\"dataframe\">\n",
       "  <thead>\n",
       "    <tr style=\"text-align: right;\">\n",
       "      <th></th>\n",
       "      <th>user_id</th>\n",
       "      <th>joke_id</th>\n",
       "      <th>Rating</th>\n",
       "      <th>ICF_1</th>\n",
       "      <th>ICF_2</th>\n",
       "      <th>ICF_5</th>\n",
       "      <th>ICF_7</th>\n",
       "      <th>ICF_10</th>\n",
       "    </tr>\n",
       "  </thead>\n",
       "  <tbody>\n",
       "    <tr>\n",
       "      <th>0</th>\n",
       "      <td>39892</td>\n",
       "      <td>21</td>\n",
       "      <td>-0.281</td>\n",
       "      <td>2.906</td>\n",
       "      <td>3.318429</td>\n",
       "      <td>2.574284</td>\n",
       "      <td>2.349167</td>\n",
       "      <td>1.824396</td>\n",
       "    </tr>\n",
       "    <tr>\n",
       "      <th>1</th>\n",
       "      <td>23074</td>\n",
       "      <td>21</td>\n",
       "      <td>3.156</td>\n",
       "      <td>3.750</td>\n",
       "      <td>5.861236</td>\n",
       "      <td>6.492044</td>\n",
       "      <td>6.344456</td>\n",
       "      <td>5.948659</td>\n",
       "    </tr>\n",
       "    <tr>\n",
       "      <th>2</th>\n",
       "      <td>23171</td>\n",
       "      <td>21</td>\n",
       "      <td>2.906</td>\n",
       "      <td>-5.719</td>\n",
       "      <td>-2.125297</td>\n",
       "      <td>2.933531</td>\n",
       "      <td>3.394027</td>\n",
       "      <td>3.412464</td>\n",
       "    </tr>\n",
       "    <tr>\n",
       "      <th>3</th>\n",
       "      <td>7282</td>\n",
       "      <td>21</td>\n",
       "      <td>-2.938</td>\n",
       "      <td>2.844</td>\n",
       "      <td>1.296507</td>\n",
       "      <td>0.488728</td>\n",
       "      <td>0.988457</td>\n",
       "      <td>1.030627</td>\n",
       "    </tr>\n",
       "    <tr>\n",
       "      <th>4</th>\n",
       "      <td>33970</td>\n",
       "      <td>21</td>\n",
       "      <td>2.656</td>\n",
       "      <td>3.188</td>\n",
       "      <td>2.637769</td>\n",
       "      <td>2.528725</td>\n",
       "      <td>2.741876</td>\n",
       "      <td>2.481778</td>\n",
       "    </tr>\n",
       "    <tr>\n",
       "      <th>...</th>\n",
       "      <td>...</td>\n",
       "      <td>...</td>\n",
       "      <td>...</td>\n",
       "      <td>...</td>\n",
       "      <td>...</td>\n",
       "      <td>...</td>\n",
       "      <td>...</td>\n",
       "      <td>...</td>\n",
       "    </tr>\n",
       "    <tr>\n",
       "      <th>9995</th>\n",
       "      <td>551</td>\n",
       "      <td>62</td>\n",
       "      <td>-9.000</td>\n",
       "      <td>-9.938</td>\n",
       "      <td>-9.427501</td>\n",
       "      <td>-4.581111</td>\n",
       "      <td>-3.772508</td>\n",
       "      <td>-4.644811</td>\n",
       "    </tr>\n",
       "    <tr>\n",
       "      <th>9996</th>\n",
       "      <td>202</td>\n",
       "      <td>20</td>\n",
       "      <td>7.844</td>\n",
       "      <td>9.750</td>\n",
       "      <td>9.674067</td>\n",
       "      <td>7.432120</td>\n",
       "      <td>7.691379</td>\n",
       "      <td>7.879288</td>\n",
       "    </tr>\n",
       "    <tr>\n",
       "      <th>9997</th>\n",
       "      <td>17</td>\n",
       "      <td>20</td>\n",
       "      <td>2.656</td>\n",
       "      <td>7.000</td>\n",
       "      <td>-0.894606</td>\n",
       "      <td>-0.389244</td>\n",
       "      <td>-0.373256</td>\n",
       "      <td>-0.014944</td>\n",
       "    </tr>\n",
       "    <tr>\n",
       "      <th>9998</th>\n",
       "      <td>406</td>\n",
       "      <td>69</td>\n",
       "      <td>8.375</td>\n",
       "      <td>-8.094</td>\n",
       "      <td>-3.987265</td>\n",
       "      <td>-0.562534</td>\n",
       "      <td>-0.564996</td>\n",
       "      <td>0.032632</td>\n",
       "    </tr>\n",
       "    <tr>\n",
       "      <th>9999</th>\n",
       "      <td>463</td>\n",
       "      <td>69</td>\n",
       "      <td>-5.000</td>\n",
       "      <td>4.312</td>\n",
       "      <td>2.295243</td>\n",
       "      <td>2.942883</td>\n",
       "      <td>2.068881</td>\n",
       "      <td>1.973287</td>\n",
       "    </tr>\n",
       "  </tbody>\n",
       "</table>\n",
       "<p>10000 rows × 8 columns</p>\n",
       "</div>"
      ],
      "text/plain": [
       "      user_id  joke_id  Rating  ICF_1     ICF_2     ICF_5     ICF_7    ICF_10\n",
       "0       39892       21  -0.281  2.906  3.318429  2.574284  2.349167  1.824396\n",
       "1       23074       21   3.156  3.750  5.861236  6.492044  6.344456  5.948659\n",
       "2       23171       21   2.906 -5.719 -2.125297  2.933531  3.394027  3.412464\n",
       "3        7282       21  -2.938  2.844  1.296507  0.488728  0.988457  1.030627\n",
       "4       33970       21   2.656  3.188  2.637769  2.528725  2.741876  2.481778\n",
       "...       ...      ...     ...    ...       ...       ...       ...       ...\n",
       "9995      551       62  -9.000 -9.938 -9.427501 -4.581111 -3.772508 -4.644811\n",
       "9996      202       20   7.844  9.750  9.674067  7.432120  7.691379  7.879288\n",
       "9997       17       20   2.656  7.000 -0.894606 -0.389244 -0.373256 -0.014944\n",
       "9998      406       69   8.375 -8.094 -3.987265 -0.562534 -0.564996  0.032632\n",
       "9999      463       69  -5.000  4.312  2.295243  2.942883  2.068881  1.973287\n",
       "\n",
       "[10000 rows x 8 columns]"
      ]
     },
     "execution_count": 49,
     "metadata": {},
     "output_type": "execute_result"
    }
   ],
   "source": [
    "testICF"
   ]
  },
  {
   "cell_type": "code",
   "execution_count": 50,
   "id": "b9b864dd",
   "metadata": {},
   "outputs": [
    {
     "data": {
      "text/plain": [
       "<matplotlib.collections.PathCollection at 0x26a71c30cd0>"
      ]
     },
     "execution_count": 50,
     "metadata": {},
     "output_type": "execute_result"
    },
    {
     "data": {
      "image/png": "[encoded data removed]",
      "text/plain": [
       "<Figure size 432x288 with 1 Axes>"
      ]
     },
     "metadata": {
      "needs_background": "light"
     },
     "output_type": "display_data"
    }
   ],
   "source": [
    "rmse_ICF= pd.DataFrame()\n",
    "for k in [1,2,5,7,10]:\n",
    "    ks='ICF_'+str(k)\n",
    "    realVals=testICF[\"Rating\"]\n",
    "    predictedVals=testICF[ks]\n",
    "    rmse_ICF.loc[ks,['RMSE']]=mean_squared_error(realVals, predictedVals, squared = False)\n",
    "rmse_ICF\n",
    "plt.scatter(rmse_ICF.index,rmse_ICF.RMSE)"
   ]
  },
  {
   "cell_type": "code",
   "execution_count": 78,
   "id": "9a2b3633",
   "metadata": {},
   "outputs": [
    {
     "data": {
      "text/html": [
       "<div>\n",
       "<style scoped>\n",
       "    .dataframe tbody tr th:only-of-type {\n",
       "        vertical-align: middle;\n",
       "    }\n",
       "\n",
       "    .dataframe tbody tr th {\n",
       "        vertical-align: top;\n",
       "    }\n",
       "\n",
       "    .dataframe thead th {\n",
       "        text-align: right;\n",
       "    }\n",
       "</style>\n",
       "<table border=\"1\" class=\"dataframe\">\n",
       "  <thead>\n",
       "    <tr style=\"text-align: right;\">\n",
       "      <th></th>\n",
       "      <th>RMSE</th>\n",
       "    </tr>\n",
       "  </thead>\n",
       "  <tbody>\n",
       "    <tr>\n",
       "      <th>ICF_1</th>\n",
       "      <td>5.310546</td>\n",
       "    </tr>\n",
       "    <tr>\n",
       "      <th>ICF_2</th>\n",
       "      <td>4.640112</td>\n",
       "    </tr>\n",
       "    <tr>\n",
       "      <th>ICF_5</th>\n",
       "      <td>4.246587</td>\n",
       "    </tr>\n",
       "    <tr>\n",
       "      <th>ICF_7</th>\n",
       "      <td>4.198937</td>\n",
       "    </tr>\n",
       "    <tr>\n",
       "      <th>ICF_10</th>\n",
       "      <td>4.350809</td>\n",
       "    </tr>\n",
       "  </tbody>\n",
       "</table>\n",
       "</div>"
      ],
      "text/plain": [
       "            RMSE\n",
       "ICF_1   5.310546\n",
       "ICF_2   4.640112\n",
       "ICF_5   4.246587\n",
       "ICF_7   4.198937\n",
       "ICF_10  4.350809"
      ]
     },
     "execution_count": 78,
     "metadata": {},
     "output_type": "execute_result"
    }
   ],
   "source": [
    "rmse_ICF\n"
   ]
  },
  {
   "cell_type": "markdown",
   "id": "adf2490c",
   "metadata": {},
   "source": [
    "Και εδώ παρατηρούμε οτι για Κ= 7 έχουμε το μικρότερο RMSE.Και αυτός ο αλγόριθμος πηρέ περίπου στα 10 λεπτά για κάθε Κ"
   ]
  },
  {
   "cell_type": "markdown",
   "id": "12e84101",
   "metadata": {},
   "source": [
    "#  Βήμα 5:\n"
   ]
  },
  {
   "cell_type": "code",
   "execution_count": 51,
   "id": "a6979ea2",
   "metadata": {},
   "outputs": [
    {
     "data": {
      "text/html": [
       "<div>\n",
       "<style scoped>\n",
       "    .dataframe tbody tr th:only-of-type {\n",
       "        vertical-align: middle;\n",
       "    }\n",
       "\n",
       "    .dataframe tbody tr th {\n",
       "        vertical-align: top;\n",
       "    }\n",
       "\n",
       "    .dataframe thead th {\n",
       "        text-align: right;\n",
       "    }\n",
       "</style>\n",
       "<table border=\"1\" class=\"dataframe\">\n",
       "  <thead>\n",
       "    <tr style=\"text-align: right;\">\n",
       "      <th></th>\n",
       "      <th>user_id</th>\n",
       "      <th>joke_id</th>\n",
       "      <th>Rating</th>\n",
       "    </tr>\n",
       "  </thead>\n",
       "  <tbody>\n",
       "    <tr>\n",
       "      <th>0</th>\n",
       "      <td>39892</td>\n",
       "      <td>21</td>\n",
       "      <td>-0.281</td>\n",
       "    </tr>\n",
       "    <tr>\n",
       "      <th>1</th>\n",
       "      <td>23074</td>\n",
       "      <td>21</td>\n",
       "      <td>3.156</td>\n",
       "    </tr>\n",
       "    <tr>\n",
       "      <th>2</th>\n",
       "      <td>23171</td>\n",
       "      <td>21</td>\n",
       "      <td>2.906</td>\n",
       "    </tr>\n",
       "    <tr>\n",
       "      <th>3</th>\n",
       "      <td>7282</td>\n",
       "      <td>21</td>\n",
       "      <td>-2.938</td>\n",
       "    </tr>\n",
       "    <tr>\n",
       "      <th>4</th>\n",
       "      <td>33970</td>\n",
       "      <td>21</td>\n",
       "      <td>2.656</td>\n",
       "    </tr>\n",
       "    <tr>\n",
       "      <th>...</th>\n",
       "      <td>...</td>\n",
       "      <td>...</td>\n",
       "      <td>...</td>\n",
       "    </tr>\n",
       "    <tr>\n",
       "      <th>9995</th>\n",
       "      <td>551</td>\n",
       "      <td>62</td>\n",
       "      <td>-9.000</td>\n",
       "    </tr>\n",
       "    <tr>\n",
       "      <th>9996</th>\n",
       "      <td>202</td>\n",
       "      <td>20</td>\n",
       "      <td>7.844</td>\n",
       "    </tr>\n",
       "    <tr>\n",
       "      <th>9997</th>\n",
       "      <td>17</td>\n",
       "      <td>20</td>\n",
       "      <td>2.656</td>\n",
       "    </tr>\n",
       "    <tr>\n",
       "      <th>9998</th>\n",
       "      <td>406</td>\n",
       "      <td>69</td>\n",
       "      <td>8.375</td>\n",
       "    </tr>\n",
       "    <tr>\n",
       "      <th>9999</th>\n",
       "      <td>463</td>\n",
       "      <td>69</td>\n",
       "      <td>-5.000</td>\n",
       "    </tr>\n",
       "  </tbody>\n",
       "</table>\n",
       "<p>10000 rows × 3 columns</p>\n",
       "</div>"
      ],
      "text/plain": [
       "      user_id  joke_id  Rating\n",
       "0       39892       21  -0.281\n",
       "1       23074       21   3.156\n",
       "2       23171       21   2.906\n",
       "3        7282       21  -2.938\n",
       "4       33970       21   2.656\n",
       "...       ...      ...     ...\n",
       "9995      551       62  -9.000\n",
       "9996      202       20   7.844\n",
       "9997       17       20   2.656\n",
       "9998      406       69   8.375\n",
       "9999      463       69  -5.000\n",
       "\n",
       "[10000 rows x 3 columns]"
      ]
     },
     "execution_count": 51,
     "metadata": {},
     "output_type": "execute_result"
    }
   ],
   "source": [
    "testSVD=pd.DataFrame()\n",
    "testSVD[\"user_id\"]=test[\"user_id\"]\n",
    "testSVD[\"joke_id\"]=test[\"joke_id\"]\n",
    "testSVD[\"Rating\"]=test[\"Rating\"]\n",
    "testSVD"
   ]
  },
  {
   "cell_type": "markdown",
   "id": "38306c26",
   "metadata": {},
   "source": [
    "Ακολουθώντας τις οδηγίες από το tutorial ορίσαμε την SVDpredict ώστε να υπολογίσουμε το SVD για τις διάφορες τιμές του Κ"
   ]
  },
  {
   "cell_type": "code",
   "execution_count": 52,
   "id": "e92b1c7f",
   "metadata": {},
   "outputs": [],
   "source": [
    "def SVDpredict(k):\n",
    "    \n",
    "    ks='SVD_'+str(k)\n",
    "    U, s, V =sp_linalg.svds(Ru,k,which ='LM')\n",
    "   \n",
    "    S = np.diag(s)\n",
    "    for k in range(k,0,-1):\n",
    "        data_k=U[:,k:].dot(S[k:,k:]).dot(V[k:,:])\n",
    "\n",
    "    data_k =U.dot(S).dot(V)\n",
    "    testSVD[ks]=data_k[testSVD[\"joke_id\"],testSVD[\"user_id\"]]\n",
    "    return()"
   ]
  },
  {
   "cell_type": "code",
   "execution_count": 53,
   "id": "fc9ad1fc",
   "metadata": {},
   "outputs": [
    {
     "data": {
      "text/html": [
       "<div>\n",
       "<style scoped>\n",
       "    .dataframe tbody tr th:only-of-type {\n",
       "        vertical-align: middle;\n",
       "    }\n",
       "\n",
       "    .dataframe tbody tr th {\n",
       "        vertical-align: top;\n",
       "    }\n",
       "\n",
       "    .dataframe thead th {\n",
       "        text-align: right;\n",
       "    }\n",
       "</style>\n",
       "<table border=\"1\" class=\"dataframe\">\n",
       "  <thead>\n",
       "    <tr style=\"text-align: right;\">\n",
       "      <th></th>\n",
       "      <th>user_id</th>\n",
       "      <th>joke_id</th>\n",
       "      <th>Rating</th>\n",
       "      <th>SVD_2</th>\n",
       "      <th>SVD_3</th>\n",
       "      <th>SVD_4</th>\n",
       "      <th>SVD_5</th>\n",
       "      <th>SVD_6</th>\n",
       "      <th>SVD_7</th>\n",
       "      <th>SVD_8</th>\n",
       "      <th>...</th>\n",
       "      <th>SVD_11</th>\n",
       "      <th>SVD_12</th>\n",
       "      <th>SVD_13</th>\n",
       "      <th>SVD_14</th>\n",
       "      <th>SVD_15</th>\n",
       "      <th>SVD_16</th>\n",
       "      <th>SVD_17</th>\n",
       "      <th>SVD_18</th>\n",
       "      <th>SVD_19</th>\n",
       "      <th>SVD_20</th>\n",
       "    </tr>\n",
       "  </thead>\n",
       "  <tbody>\n",
       "    <tr>\n",
       "      <th>0</th>\n",
       "      <td>39892</td>\n",
       "      <td>21</td>\n",
       "      <td>-0.281</td>\n",
       "      <td>0.301734</td>\n",
       "      <td>0.574672</td>\n",
       "      <td>0.905658</td>\n",
       "      <td>0.904598</td>\n",
       "      <td>0.949200</td>\n",
       "      <td>0.933310</td>\n",
       "      <td>0.980190</td>\n",
       "      <td>...</td>\n",
       "      <td>0.858098</td>\n",
       "      <td>1.110004</td>\n",
       "      <td>1.394728</td>\n",
       "      <td>1.454537</td>\n",
       "      <td>1.437608</td>\n",
       "      <td>1.670125</td>\n",
       "      <td>2.070699</td>\n",
       "      <td>1.856424</td>\n",
       "      <td>1.881913</td>\n",
       "      <td>1.284778</td>\n",
       "    </tr>\n",
       "    <tr>\n",
       "      <th>1</th>\n",
       "      <td>23074</td>\n",
       "      <td>21</td>\n",
       "      <td>3.156</td>\n",
       "      <td>2.676152</td>\n",
       "      <td>3.097588</td>\n",
       "      <td>3.560750</td>\n",
       "      <td>3.788315</td>\n",
       "      <td>3.803068</td>\n",
       "      <td>3.792569</td>\n",
       "      <td>3.797836</td>\n",
       "      <td>...</td>\n",
       "      <td>4.861922</td>\n",
       "      <td>4.480059</td>\n",
       "      <td>3.702865</td>\n",
       "      <td>2.857807</td>\n",
       "      <td>2.775411</td>\n",
       "      <td>2.031825</td>\n",
       "      <td>-0.023046</td>\n",
       "      <td>0.663525</td>\n",
       "      <td>3.159216</td>\n",
       "      <td>2.541339</td>\n",
       "    </tr>\n",
       "    <tr>\n",
       "      <th>2</th>\n",
       "      <td>23171</td>\n",
       "      <td>21</td>\n",
       "      <td>2.906</td>\n",
       "      <td>1.574085</td>\n",
       "      <td>1.837539</td>\n",
       "      <td>2.044072</td>\n",
       "      <td>2.182750</td>\n",
       "      <td>2.174800</td>\n",
       "      <td>2.215772</td>\n",
       "      <td>1.920140</td>\n",
       "      <td>...</td>\n",
       "      <td>1.891157</td>\n",
       "      <td>2.202402</td>\n",
       "      <td>1.511018</td>\n",
       "      <td>1.684080</td>\n",
       "      <td>1.674020</td>\n",
       "      <td>0.559646</td>\n",
       "      <td>1.682866</td>\n",
       "      <td>2.599600</td>\n",
       "      <td>2.618447</td>\n",
       "      <td>2.033610</td>\n",
       "    </tr>\n",
       "    <tr>\n",
       "      <th>3</th>\n",
       "      <td>7282</td>\n",
       "      <td>21</td>\n",
       "      <td>-2.938</td>\n",
       "      <td>0.528736</td>\n",
       "      <td>0.250237</td>\n",
       "      <td>0.170146</td>\n",
       "      <td>0.173393</td>\n",
       "      <td>-0.005765</td>\n",
       "      <td>-0.095219</td>\n",
       "      <td>0.016552</td>\n",
       "      <td>...</td>\n",
       "      <td>0.357781</td>\n",
       "      <td>0.247275</td>\n",
       "      <td>0.498461</td>\n",
       "      <td>0.285666</td>\n",
       "      <td>0.336003</td>\n",
       "      <td>0.476627</td>\n",
       "      <td>0.065434</td>\n",
       "      <td>-0.169331</td>\n",
       "      <td>0.206007</td>\n",
       "      <td>0.148498</td>\n",
       "    </tr>\n",
       "    <tr>\n",
       "      <th>4</th>\n",
       "      <td>33970</td>\n",
       "      <td>21</td>\n",
       "      <td>2.656</td>\n",
       "      <td>0.517378</td>\n",
       "      <td>0.668712</td>\n",
       "      <td>1.029826</td>\n",
       "      <td>1.043538</td>\n",
       "      <td>1.090629</td>\n",
       "      <td>1.097363</td>\n",
       "      <td>1.451477</td>\n",
       "      <td>...</td>\n",
       "      <td>1.653839</td>\n",
       "      <td>1.695999</td>\n",
       "      <td>1.615698</td>\n",
       "      <td>1.701055</td>\n",
       "      <td>1.686301</td>\n",
       "      <td>1.746083</td>\n",
       "      <td>0.557718</td>\n",
       "      <td>0.603163</td>\n",
       "      <td>0.574617</td>\n",
       "      <td>0.303534</td>\n",
       "    </tr>\n",
       "    <tr>\n",
       "      <th>...</th>\n",
       "      <td>...</td>\n",
       "      <td>...</td>\n",
       "      <td>...</td>\n",
       "      <td>...</td>\n",
       "      <td>...</td>\n",
       "      <td>...</td>\n",
       "      <td>...</td>\n",
       "      <td>...</td>\n",
       "      <td>...</td>\n",
       "      <td>...</td>\n",
       "      <td>...</td>\n",
       "      <td>...</td>\n",
       "      <td>...</td>\n",
       "      <td>...</td>\n",
       "      <td>...</td>\n",
       "      <td>...</td>\n",
       "      <td>...</td>\n",
       "      <td>...</td>\n",
       "      <td>...</td>\n",
       "      <td>...</td>\n",
       "      <td>...</td>\n",
       "    </tr>\n",
       "    <tr>\n",
       "      <th>9995</th>\n",
       "      <td>551</td>\n",
       "      <td>62</td>\n",
       "      <td>-9.000</td>\n",
       "      <td>-0.029593</td>\n",
       "      <td>-0.017067</td>\n",
       "      <td>-0.014013</td>\n",
       "      <td>-0.021755</td>\n",
       "      <td>-0.019276</td>\n",
       "      <td>-0.020445</td>\n",
       "      <td>-0.023512</td>\n",
       "      <td>...</td>\n",
       "      <td>-0.028945</td>\n",
       "      <td>-0.026677</td>\n",
       "      <td>-0.024203</td>\n",
       "      <td>-0.040654</td>\n",
       "      <td>-0.028381</td>\n",
       "      <td>-0.023392</td>\n",
       "      <td>-0.022734</td>\n",
       "      <td>-0.023326</td>\n",
       "      <td>-0.023702</td>\n",
       "      <td>-0.014940</td>\n",
       "    </tr>\n",
       "    <tr>\n",
       "      <th>9996</th>\n",
       "      <td>202</td>\n",
       "      <td>20</td>\n",
       "      <td>7.844</td>\n",
       "      <td>0.065806</td>\n",
       "      <td>0.101490</td>\n",
       "      <td>0.102319</td>\n",
       "      <td>0.112594</td>\n",
       "      <td>0.112953</td>\n",
       "      <td>0.113937</td>\n",
       "      <td>0.114421</td>\n",
       "      <td>...</td>\n",
       "      <td>0.120918</td>\n",
       "      <td>0.120625</td>\n",
       "      <td>0.119871</td>\n",
       "      <td>0.134775</td>\n",
       "      <td>0.146344</td>\n",
       "      <td>0.158474</td>\n",
       "      <td>0.156492</td>\n",
       "      <td>0.176493</td>\n",
       "      <td>0.176163</td>\n",
       "      <td>0.177970</td>\n",
       "    </tr>\n",
       "    <tr>\n",
       "      <th>9997</th>\n",
       "      <td>17</td>\n",
       "      <td>20</td>\n",
       "      <td>2.656</td>\n",
       "      <td>-0.010263</td>\n",
       "      <td>-0.016938</td>\n",
       "      <td>-0.016404</td>\n",
       "      <td>0.000743</td>\n",
       "      <td>-0.000043</td>\n",
       "      <td>0.004737</td>\n",
       "      <td>0.004904</td>\n",
       "      <td>...</td>\n",
       "      <td>0.006225</td>\n",
       "      <td>0.009181</td>\n",
       "      <td>0.012321</td>\n",
       "      <td>0.010813</td>\n",
       "      <td>0.008992</td>\n",
       "      <td>0.005439</td>\n",
       "      <td>0.007498</td>\n",
       "      <td>0.007671</td>\n",
       "      <td>0.008551</td>\n",
       "      <td>0.013004</td>\n",
       "    </tr>\n",
       "    <tr>\n",
       "      <th>9998</th>\n",
       "      <td>406</td>\n",
       "      <td>69</td>\n",
       "      <td>8.375</td>\n",
       "      <td>0.008226</td>\n",
       "      <td>-0.002673</td>\n",
       "      <td>-0.002457</td>\n",
       "      <td>-0.000754</td>\n",
       "      <td>0.000804</td>\n",
       "      <td>0.004839</td>\n",
       "      <td>0.004800</td>\n",
       "      <td>...</td>\n",
       "      <td>0.010421</td>\n",
       "      <td>0.010550</td>\n",
       "      <td>0.010535</td>\n",
       "      <td>0.016644</td>\n",
       "      <td>0.020244</td>\n",
       "      <td>0.023614</td>\n",
       "      <td>0.023645</td>\n",
       "      <td>0.015474</td>\n",
       "      <td>0.017986</td>\n",
       "      <td>0.016443</td>\n",
       "    </tr>\n",
       "    <tr>\n",
       "      <th>9999</th>\n",
       "      <td>463</td>\n",
       "      <td>69</td>\n",
       "      <td>-5.000</td>\n",
       "      <td>0.022870</td>\n",
       "      <td>0.023069</td>\n",
       "      <td>0.022687</td>\n",
       "      <td>0.020909</td>\n",
       "      <td>0.021252</td>\n",
       "      <td>0.021391</td>\n",
       "      <td>0.021180</td>\n",
       "      <td>...</td>\n",
       "      <td>0.026382</td>\n",
       "      <td>0.027200</td>\n",
       "      <td>0.027254</td>\n",
       "      <td>0.031214</td>\n",
       "      <td>0.032264</td>\n",
       "      <td>0.022665</td>\n",
       "      <td>0.007692</td>\n",
       "      <td>-0.000865</td>\n",
       "      <td>-0.008758</td>\n",
       "      <td>-0.009401</td>\n",
       "    </tr>\n",
       "  </tbody>\n",
       "</table>\n",
       "<p>10000 rows × 22 columns</p>\n",
       "</div>"
      ],
      "text/plain": [
       "      user_id  joke_id  Rating     SVD_2     SVD_3     SVD_4     SVD_5  \\\n",
       "0       39892       21  -0.281  0.301734  0.574672  0.905658  0.904598   \n",
       "1       23074       21   3.156  2.676152  3.097588  3.560750  3.788315   \n",
       "2       23171       21   2.906  1.574085  1.837539  2.044072  2.182750   \n",
       "3        7282       21  -2.938  0.528736  0.250237  0.170146  0.173393   \n",
       "4       33970       21   2.656  0.517378  0.668712  1.029826  1.043538   \n",
       "...       ...      ...     ...       ...       ...       ...       ...   \n",
       "9995      551       62  -9.000 -0.029593 -0.017067 -0.014013 -0.021755   \n",
       "9996      202       20   7.844  0.065806  0.101490  0.102319  0.112594   \n",
       "9997       17       20   2.656 -0.010263 -0.016938 -0.016404  0.000743   \n",
       "9998      406       69   8.375  0.008226 -0.002673 -0.002457 -0.000754   \n",
       "9999      463       69  -5.000  0.022870  0.023069  0.022687  0.020909   \n",
       "\n",
       "         SVD_6     SVD_7     SVD_8  ...    SVD_11    SVD_12    SVD_13  \\\n",
       "0     0.949200  0.933310  0.980190  ...  0.858098  1.110004  1.394728   \n",
       "1     3.803068  3.792569  3.797836  ...  4.861922  4.480059  3.702865   \n",
       "2     2.174800  2.215772  1.920140  ...  1.891157  2.202402  1.511018   \n",
       "3    -0.005765 -0.095219  0.016552  ...  0.357781  0.247275  0.498461   \n",
       "4     1.090629  1.097363  1.451477  ...  1.653839  1.695999  1.615698   \n",
       "...        ...       ...       ...  ...       ...       ...       ...   \n",
       "9995 -0.019276 -0.020445 -0.023512  ... -0.028945 -0.026677 -0.024203   \n",
       "9996  0.112953  0.113937  0.114421  ...  0.120918  0.120625  0.119871   \n",
       "9997 -0.000043  0.004737  0.004904  ...  0.006225  0.009181  0.012321   \n",
       "9998  0.000804  0.004839  0.004800  ...  0.010421  0.010550  0.010535   \n",
       "9999  0.021252  0.021391  0.021180  ...  0.026382  0.027200  0.027254   \n",
       "\n",
       "        SVD_14    SVD_15    SVD_16    SVD_17    SVD_18    SVD_19    SVD_20  \n",
       "0     1.454537  1.437608  1.670125  2.070699  1.856424  1.881913  1.284778  \n",
       "1     2.857807  2.775411  2.031825 -0.023046  0.663525  3.159216  2.541339  \n",
       "2     1.684080  1.674020  0.559646  1.682866  2.599600  2.618447  2.033610  \n",
       "3     0.285666  0.336003  0.476627  0.065434 -0.169331  0.206007  0.148498  \n",
       "4     1.701055  1.686301  1.746083  0.557718  0.603163  0.574617  0.303534  \n",
       "...        ...       ...       ...       ...       ...       ...       ...  \n",
       "9995 -0.040654 -0.028381 -0.023392 -0.022734 -0.023326 -0.023702 -0.014940  \n",
       "9996  0.134775  0.146344  0.158474  0.156492  0.176493  0.176163  0.177970  \n",
       "9997  0.010813  0.008992  0.005439  0.007498  0.007671  0.008551  0.013004  \n",
       "9998  0.016644  0.020244  0.023614  0.023645  0.015474  0.017986  0.016443  \n",
       "9999  0.031214  0.032264  0.022665  0.007692 -0.000865 -0.008758 -0.009401  \n",
       "\n",
       "[10000 rows x 22 columns]"
      ]
     },
     "execution_count": 53,
     "metadata": {},
     "output_type": "execute_result"
    }
   ],
   "source": [
    "for k in range(2,21):\n",
    "    SVDpredict(k)\n",
    "testSVD"
   ]
  },
  {
   "cell_type": "code",
   "execution_count": 54,
   "id": "68edd1c3",
   "metadata": {},
   "outputs": [
    {
     "data": {
      "text/html": [
       "<div>\n",
       "<style scoped>\n",
       "    .dataframe tbody tr th:only-of-type {\n",
       "        vertical-align: middle;\n",
       "    }\n",
       "\n",
       "    .dataframe tbody tr th {\n",
       "        vertical-align: top;\n",
       "    }\n",
       "\n",
       "    .dataframe thead th {\n",
       "        text-align: right;\n",
       "    }\n",
       "</style>\n",
       "<table border=\"1\" class=\"dataframe\">\n",
       "  <thead>\n",
       "    <tr style=\"text-align: right;\">\n",
       "      <th></th>\n",
       "      <th>RMSE</th>\n",
       "    </tr>\n",
       "  </thead>\n",
       "  <tbody>\n",
       "    <tr>\n",
       "      <th>2</th>\n",
       "      <td>4.735177</td>\n",
       "    </tr>\n",
       "    <tr>\n",
       "      <th>3</th>\n",
       "      <td>4.649011</td>\n",
       "    </tr>\n",
       "    <tr>\n",
       "      <th>4</th>\n",
       "      <td>4.635153</td>\n",
       "    </tr>\n",
       "    <tr>\n",
       "      <th>5</th>\n",
       "      <td>4.636002</td>\n",
       "    </tr>\n",
       "    <tr>\n",
       "      <th>6</th>\n",
       "      <td>4.661814</td>\n",
       "    </tr>\n",
       "    <tr>\n",
       "      <th>7</th>\n",
       "      <td>4.675156</td>\n",
       "    </tr>\n",
       "    <tr>\n",
       "      <th>8</th>\n",
       "      <td>4.681776</td>\n",
       "    </tr>\n",
       "    <tr>\n",
       "      <th>9</th>\n",
       "      <td>4.692667</td>\n",
       "    </tr>\n",
       "    <tr>\n",
       "      <th>10</th>\n",
       "      <td>4.696880</td>\n",
       "    </tr>\n",
       "    <tr>\n",
       "      <th>11</th>\n",
       "      <td>4.710059</td>\n",
       "    </tr>\n",
       "    <tr>\n",
       "      <th>12</th>\n",
       "      <td>4.703337</td>\n",
       "    </tr>\n",
       "    <tr>\n",
       "      <th>13</th>\n",
       "      <td>4.705483</td>\n",
       "    </tr>\n",
       "    <tr>\n",
       "      <th>14</th>\n",
       "      <td>4.703137</td>\n",
       "    </tr>\n",
       "    <tr>\n",
       "      <th>15</th>\n",
       "      <td>4.704568</td>\n",
       "    </tr>\n",
       "    <tr>\n",
       "      <th>16</th>\n",
       "      <td>4.717272</td>\n",
       "    </tr>\n",
       "    <tr>\n",
       "      <th>17</th>\n",
       "      <td>4.733909</td>\n",
       "    </tr>\n",
       "    <tr>\n",
       "      <th>18</th>\n",
       "      <td>4.747141</td>\n",
       "    </tr>\n",
       "    <tr>\n",
       "      <th>19</th>\n",
       "      <td>4.763650</td>\n",
       "    </tr>\n",
       "    <tr>\n",
       "      <th>20</th>\n",
       "      <td>4.783000</td>\n",
       "    </tr>\n",
       "  </tbody>\n",
       "</table>\n",
       "</div>"
      ],
      "text/plain": [
       "        RMSE\n",
       "2   4.735177\n",
       "3   4.649011\n",
       "4   4.635153\n",
       "5   4.636002\n",
       "6   4.661814\n",
       "7   4.675156\n",
       "8   4.681776\n",
       "9   4.692667\n",
       "10  4.696880\n",
       "11  4.710059\n",
       "12  4.703337\n",
       "13  4.705483\n",
       "14  4.703137\n",
       "15  4.704568\n",
       "16  4.717272\n",
       "17  4.733909\n",
       "18  4.747141\n",
       "19  4.763650\n",
       "20  4.783000"
      ]
     },
     "execution_count": 54,
     "metadata": {},
     "output_type": "execute_result"
    }
   ],
   "source": [
    "rmse_SVD= pd.DataFrame()\n",
    "for k in range(2,21):\n",
    "    ks='SVD_'+str(k)\n",
    "    realVals=testSVD[\"Rating\"]\n",
    "    predictedVals=testSVD[ks]\n",
    "    rmse_SVD.loc[k,['RMSE']]=mean_squared_error(realVals, predictedVals, squared = False)\n",
    "rmse_SVD"
   ]
  },
  {
   "cell_type": "code",
   "execution_count": 55,
   "id": "65aeca44",
   "metadata": {
    "scrolled": false
   },
   "outputs": [
    {
     "data": {
      "text/plain": [
       "<matplotlib.collections.PathCollection at 0x26a778e04f0>"
      ]
     },
     "execution_count": 55,
     "metadata": {},
     "output_type": "execute_result"
    },
    {
     "data": {
      "image/png": "[encoded data removed]",
      "text/plain": [
       "<Figure size 432x288 with 1 Axes>"
      ]
     },
     "metadata": {
      "needs_background": "light"
     },
     "output_type": "display_data"
    }
   ],
   "source": [
    "plt.scatter(rmse_SVD.index,rmse_SVD.RMSE)"
   ]
  },
  {
   "cell_type": "markdown",
   "id": "aa71d670",
   "metadata": {},
   "source": [
    "Από την εφαρμογή του SVD στο πίνακα R για τις διάφορες τιμές του Κ παρατηρούμε ότι για Κ=4 έχουμε το καλύτερο PMSE και για Κ μεγαλύτερο του 5 βλέπουμε ότι το RMSE αυξάνεται"
   ]
  },
  {
   "cell_type": "markdown",
   "id": "81ba1061",
   "metadata": {},
   "source": [
    "# Βήμα 6:"
   ]
  },
  {
   "cell_type": "code",
   "execution_count": 76,
   "id": "6e1abe2f",
   "metadata": {},
   "outputs": [
    {
     "data": {
      "text/plain": [
       "<matplotlib.collections.PathCollection at 0x26a72695d00>"
      ]
     },
     "execution_count": 76,
     "metadata": {},
     "output_type": "execute_result"
    },
    {
     "data": {
      "image/png": "[encoded data removed]",
      "text/plain": [
       "<Figure size 432x288 with 1 Axes>"
      ]
     },
     "metadata": {
      "needs_background": "light"
     },
     "output_type": "display_data"
    }
   ],
   "source": [
    "BestRMSE= pd.DataFrame()\n",
    "BestRMSE.loc['UA','RMSE']=mean_squared_error(test.Rating, test.User_AV, squared = False)\n",
    "BestRMSE.loc['JA','RMSE']=mean_squared_error(test.Rating, test.joke_AV, squared = False)\n",
    "BestRMSE.loc['UCF','RMSE']=mean_squared_error(test.Rating, testUCF.UCF_100, squared = False)\n",
    "BestRMSE.loc['ICF','RMSE']=mean_squared_error(test.Rating, testICF.ICF_7, squared = False)\n",
    "BestRMSE.loc['SVD','RMSE']=mean_squared_error(test.Rating, testSVD.SVD_4, squared = False)\n",
    "plt.scatter(BestRMSE.index,BestRMSE.RMSE)"
   ]
  },
  {
   "cell_type": "markdown",
   "id": "5a0cb2fa",
   "metadata": {},
   "source": [
    "    Έχοντας όλους τους αλγόριθμους μαζί  παρατηρούμε ότι ο ICF έχει το μικρότερο RMSE μετά είναι ο UCF μετά ο UA μετά ο SVD και τέλος ο JA . Βέβαια από αυτούς ο ICF και o UCF αν με τα χαμηλότερα RMSE είναι και αυτοί που πήραν τον περισσότερο χρόνο να ολοκληρωθούν με τον UCF να χρειάζεται 9.26 λεπτά και ο ICF 8..7 λεπτά  για το σύνολο των δεδομένων .Ο SVD  από την άλλη χρειάστηκε περίπου 3-4 λεπτά να υλοποιηθεί Κ φορές στο πλήρες μέγεθος των τεστ δεδομένων κάτι που τον κάνει πολύ γρήγορο UA και JA αν και στιγμιαίοι δεν μπορούν να εφαρμοστούν σε αραιούς πίνακες πράγμα που τους κάνει να μη μπορούν να συναγωνιστούν τους άλλους .Από αυτούς παρατηρούμε ότι υπάρχει μεγαλύτερη συνοχή μεταξύ τον βαθμών ενός χρήστη πάρα ενός αστείου .Για το UCF και τον ICF ίσως με μια καλύτερη υλοποίηση από τη τη δική μου να είναι και ταχύτεροι αλλά δυστυχώς δεν βρήκα κάποιο καλύτερο τρόπο να διαχειριστώ τα δεδομένα μετά τη σύγκριση των διανυσμάτων για την ομοιότητα πέρα από το DataFrame .Δοκίμασα αρκετές παραλλαγές με τους πίνακες ώστε να ελαττώσω το χρόνο που χρειάζονται ,αλλά δε μπόρεσα να υλοποιήσω κάτι γρηγορότερο. "
   ]
  },
  {
   "cell_type": "markdown",
   "id": "efa76b7a",
   "metadata": {},
   "source": [
    "#   Ερωτηση 4\t:"
   ]
  },
  {
   "cell_type": "markdown",
   "id": "f6b6acdb",
   "metadata": {},
   "source": [
    "Ακολουθώντας τα βήματα από το tutorial με το clustering εφαρμόζουμε τον Κmeans αλγόριθμο και από το κοινό γράφημα του SSE και το Silhouette Coefficient επιλέγουμε το Κ=3 clusters"
   ]
  },
  {
   "cell_type": "code",
   "execution_count": 36,
   "id": "e00dcdf1",
   "metadata": {},
   "outputs": [],
   "source": [
    "error = np.zeros(11)\n",
    "sh_score = np.zeros(11)\n",
    "for k in range(2,11):\n",
    "    kmeans = sk_cluster.KMeans(init='k-means++', n_clusters=k, n_init=10)\n",
    "    kmeans.fit_predict(Ru.T)\n",
    "    error[k] = kmeans.inertia_\n",
    "    if k>1: sh_score[k]= metrics.silhouette_score(Ru.T, kmeans.labels_)\n",
    "\n"
   ]
  },
  {
   "cell_type": "code",
   "execution_count": 37,
   "id": "ef2ce25c",
   "metadata": {},
   "outputs": [
    {
     "data": {
      "image/png": "[encoded data removed]",
      "text/plain": [
       "<Figure size 432x288 with 2 Axes>"
      ]
     },
     "metadata": {
      "needs_background": "light"
     },
     "output_type": "display_data"
    }
   ],
   "source": [
    "fig, ax1 = plt.subplots()\n",
    "color = 'tab:red'\n",
    "ax1.set_xlabel('number of clusters')\n",
    "ax1.set_ylabel('silhoutte score', color=color)\n",
    "ax1.plot(range(2,len(sh_score)),sh_score[2:], color=color)\n",
    "ax1.tick_params(axis='y', labelcolor=color)\n",
    "ax2 = ax1.twinx() # instantiate a second axes that shares the same x-axis\n",
    "color = 'tab:blue'\n",
    "ax2.set_ylabel('SSE', color=color) # we already handled the x-label with ax1\n",
    "ax2.plot(range(2,len(error)),error[2:], color=color)\n",
    "ax2.tick_params(axis='y', labelcolor=color)\n"
   ]
  },
  {
   "cell_type": "markdown",
   "id": "3c905e39",
   "metadata": {},
   "source": [
    "    Aπό το κοινό γράφημα του SSE και το Silhouette Coefficient επιλέγουμε το Κ=3 clusters καθως εκει παρατηρουμε την κορυφη του Silhouette Coefficient και αρκετη πτωση του SSE."
   ]
  },
  {
   "cell_type": "code",
   "execution_count": 38,
   "id": "5d45e683",
   "metadata": {},
   "outputs": [
    {
     "data": {
      "text/html": [
       "<div>\n",
       "<style scoped>\n",
       "    .dataframe tbody tr th:only-of-type {\n",
       "        vertical-align: middle;\n",
       "    }\n",
       "\n",
       "    .dataframe tbody tr th {\n",
       "        vertical-align: top;\n",
       "    }\n",
       "\n",
       "    .dataframe thead th {\n",
       "        text-align: right;\n",
       "    }\n",
       "</style>\n",
       "<table border=\"1\" class=\"dataframe\">\n",
       "  <thead>\n",
       "    <tr style=\"text-align: right;\">\n",
       "      <th></th>\n",
       "      <th>user_id</th>\n",
       "      <th>joke_id</th>\n",
       "      <th>Rating</th>\n",
       "    </tr>\n",
       "  </thead>\n",
       "  <tbody>\n",
       "    <tr>\n",
       "      <th>0</th>\n",
       "      <td>39892</td>\n",
       "      <td>21</td>\n",
       "      <td>-0.281</td>\n",
       "    </tr>\n",
       "    <tr>\n",
       "      <th>1</th>\n",
       "      <td>23074</td>\n",
       "      <td>21</td>\n",
       "      <td>3.156</td>\n",
       "    </tr>\n",
       "    <tr>\n",
       "      <th>2</th>\n",
       "      <td>23171</td>\n",
       "      <td>21</td>\n",
       "      <td>2.906</td>\n",
       "    </tr>\n",
       "    <tr>\n",
       "      <th>3</th>\n",
       "      <td>7282</td>\n",
       "      <td>21</td>\n",
       "      <td>-2.938</td>\n",
       "    </tr>\n",
       "    <tr>\n",
       "      <th>4</th>\n",
       "      <td>33970</td>\n",
       "      <td>21</td>\n",
       "      <td>2.656</td>\n",
       "    </tr>\n",
       "    <tr>\n",
       "      <th>...</th>\n",
       "      <td>...</td>\n",
       "      <td>...</td>\n",
       "      <td>...</td>\n",
       "    </tr>\n",
       "    <tr>\n",
       "      <th>9995</th>\n",
       "      <td>551</td>\n",
       "      <td>62</td>\n",
       "      <td>-9.000</td>\n",
       "    </tr>\n",
       "    <tr>\n",
       "      <th>9996</th>\n",
       "      <td>202</td>\n",
       "      <td>20</td>\n",
       "      <td>7.844</td>\n",
       "    </tr>\n",
       "    <tr>\n",
       "      <th>9997</th>\n",
       "      <td>17</td>\n",
       "      <td>20</td>\n",
       "      <td>2.656</td>\n",
       "    </tr>\n",
       "    <tr>\n",
       "      <th>9998</th>\n",
       "      <td>406</td>\n",
       "      <td>69</td>\n",
       "      <td>8.375</td>\n",
       "    </tr>\n",
       "    <tr>\n",
       "      <th>9999</th>\n",
       "      <td>463</td>\n",
       "      <td>69</td>\n",
       "      <td>-5.000</td>\n",
       "    </tr>\n",
       "  </tbody>\n",
       "</table>\n",
       "<p>10000 rows × 3 columns</p>\n",
       "</div>"
      ],
      "text/plain": [
       "      user_id  joke_id  Rating\n",
       "0       39892       21  -0.281\n",
       "1       23074       21   3.156\n",
       "2       23171       21   2.906\n",
       "3        7282       21  -2.938\n",
       "4       33970       21   2.656\n",
       "...       ...      ...     ...\n",
       "9995      551       62  -9.000\n",
       "9996      202       20   7.844\n",
       "9997       17       20   2.656\n",
       "9998      406       69   8.375\n",
       "9999      463       69  -5.000\n",
       "\n",
       "[10000 rows x 3 columns]"
      ]
     },
     "execution_count": 38,
     "metadata": {},
     "output_type": "execute_result"
    }
   ],
   "source": [
    "testCL=pd.DataFrame()\n",
    "testCL[\"user_id\"]=test[\"user_id\"]\n",
    "testCL[\"joke_id\"]=test[\"joke_id\"]\n",
    "testCL[\"Rating\"]=test[\"Rating\"]\n",
    "testCL"
   ]
  },
  {
   "cell_type": "markdown",
   "id": "bf491d2e",
   "metadata": {},
   "source": [
    "#  A.1 Cluster-Based JA(CB_JA)"
   ]
  },
  {
   "cell_type": "code",
   "execution_count": 39,
   "id": "890fa2e2",
   "metadata": {},
   "outputs": [],
   "source": [
    "kmeans = sk_cluster.KMeans(init='k-means++', n_clusters=3, n_init=10)\n",
    "kmeans.fit_predict(Ru.T)\n",
    "centroids = kmeans.cluster_centers_\n",
    "kmeans_labels = kmeans.labels_\n",
    "error = kmeans.inertia_"
   ]
  },
  {
   "cell_type": "markdown",
   "id": "114f9bde",
   "metadata": {},
   "source": [
    "Για τον CB_JA  στα train  δεδομένα έφτιαξα μια νέα στήλη με το cluster στο οποίο ανήκει  ο χρήστης και για στην υλοποίηση του η ιδέα είναι ότι διαχειρίζομαι  το dataframe σαν να κάνω διαδοχικά groopby ώστε να καταλήξω στην ομάδα χρηστών που θέλω για να πάρω το μέσο όρο του αστείου."
   ]
  },
  {
   "cell_type": "code",
   "execution_count": 40,
   "id": "7f0d15d0",
   "metadata": {},
   "outputs": [],
   "source": [
    "train[\"cluster\"]=0"
   ]
  },
  {
   "cell_type": "code",
   "execution_count": 41,
   "id": "3717e2d4",
   "metadata": {
    "scrolled": true
   },
   "outputs": [
    {
     "name": "stderr",
     "output_type": "stream",
     "text": [
      "C:\\Users\\ggBoSS\\anaconda3\\lib\\site-packages\\pandas\\core\\indexing.py:1732: SettingWithCopyWarning: \n",
      "A value is trying to be set on a copy of a slice from a DataFrame\n",
      "\n",
      "See the caveats in the documentation: https://pandas.pydata.org/pandas-docs/stable/user_guide/indexing.html#returning-a-view-versus-a-copy\n",
      "  self._setitem_single_block(indexer, value, name)\n"
     ]
    }
   ],
   "source": [
    "for k in range(0,3):\n",
    "    lc=np.where(kmeans_labels==k)[0]\n",
    "    train[\"cluster\"].iloc[train[\"user_id\"].isin(lc)]=k\n"
   ]
  },
  {
   "cell_type": "code",
   "execution_count": 42,
   "id": "ba1f3821",
   "metadata": {
    "scrolled": true
   },
   "outputs": [
    {
     "data": {
      "text/html": [
       "<div>\n",
       "<style scoped>\n",
       "    .dataframe tbody tr th:only-of-type {\n",
       "        vertical-align: middle;\n",
       "    }\n",
       "\n",
       "    .dataframe tbody tr th {\n",
       "        vertical-align: top;\n",
       "    }\n",
       "\n",
       "    .dataframe thead th {\n",
       "        text-align: right;\n",
       "    }\n",
       "</style>\n",
       "<table border=\"1\" class=\"dataframe\">\n",
       "  <thead>\n",
       "    <tr style=\"text-align: right;\">\n",
       "      <th></th>\n",
       "      <th>joke_id</th>\n",
       "      <th>user_id</th>\n",
       "      <th>Rating</th>\n",
       "      <th>cluster</th>\n",
       "    </tr>\n",
       "  </thead>\n",
       "  <tbody>\n",
       "    <tr>\n",
       "      <th>0</th>\n",
       "      <td>0</td>\n",
       "      <td>341</td>\n",
       "      <td>-8.906</td>\n",
       "      <td>1</td>\n",
       "    </tr>\n",
       "    <tr>\n",
       "      <th>1</th>\n",
       "      <td>0</td>\n",
       "      <td>277</td>\n",
       "      <td>-6.500</td>\n",
       "      <td>2</td>\n",
       "    </tr>\n",
       "    <tr>\n",
       "      <th>2</th>\n",
       "      <td>0</td>\n",
       "      <td>229</td>\n",
       "      <td>-9.156</td>\n",
       "      <td>0</td>\n",
       "    </tr>\n",
       "    <tr>\n",
       "      <th>3</th>\n",
       "      <td>0</td>\n",
       "      <td>349</td>\n",
       "      <td>1.469</td>\n",
       "      <td>2</td>\n",
       "    </tr>\n",
       "    <tr>\n",
       "      <th>4</th>\n",
       "      <td>0</td>\n",
       "      <td>81</td>\n",
       "      <td>-7.281</td>\n",
       "      <td>0</td>\n",
       "    </tr>\n",
       "    <tr>\n",
       "      <th>...</th>\n",
       "      <td>...</td>\n",
       "      <td>...</td>\n",
       "      <td>...</td>\n",
       "      <td>...</td>\n",
       "    </tr>\n",
       "    <tr>\n",
       "      <th>1082053</th>\n",
       "      <td>138</td>\n",
       "      <td>10484</td>\n",
       "      <td>0.750</td>\n",
       "      <td>0</td>\n",
       "    </tr>\n",
       "    <tr>\n",
       "      <th>1082054</th>\n",
       "      <td>138</td>\n",
       "      <td>33636</td>\n",
       "      <td>2.188</td>\n",
       "      <td>2</td>\n",
       "    </tr>\n",
       "    <tr>\n",
       "      <th>1082055</th>\n",
       "      <td>138</td>\n",
       "      <td>38377</td>\n",
       "      <td>0.781</td>\n",
       "      <td>0</td>\n",
       "    </tr>\n",
       "    <tr>\n",
       "      <th>1082056</th>\n",
       "      <td>138</td>\n",
       "      <td>28445</td>\n",
       "      <td>8.250</td>\n",
       "      <td>1</td>\n",
       "    </tr>\n",
       "    <tr>\n",
       "      <th>1082057</th>\n",
       "      <td>138</td>\n",
       "      <td>38860</td>\n",
       "      <td>1.625</td>\n",
       "      <td>1</td>\n",
       "    </tr>\n",
       "  </tbody>\n",
       "</table>\n",
       "<p>1082058 rows × 4 columns</p>\n",
       "</div>"
      ],
      "text/plain": [
       "         joke_id  user_id  Rating  cluster\n",
       "0              0      341  -8.906        1\n",
       "1              0      277  -6.500        2\n",
       "2              0      229  -9.156        0\n",
       "3              0      349   1.469        2\n",
       "4              0       81  -7.281        0\n",
       "...          ...      ...     ...      ...\n",
       "1082053      138    10484   0.750        0\n",
       "1082054      138    33636   2.188        2\n",
       "1082055      138    38377   0.781        0\n",
       "1082056      138    28445   8.250        1\n",
       "1082057      138    38860   1.625        1\n",
       "\n",
       "[1082058 rows x 4 columns]"
      ]
     },
     "execution_count": 42,
     "metadata": {},
     "output_type": "execute_result"
    }
   ],
   "source": [
    "train"
   ]
  },
  {
   "cell_type": "code",
   "execution_count": 43,
   "id": "38ca0911",
   "metadata": {},
   "outputs": [],
   "source": [
    "def CB_JA(user,joke):    \n",
    "    \n",
    "    x=train[train['user_id']==user].cluster.values[0]\n",
    "    temp=train[train[\"cluster\"]==x]\n",
    "    temp=temp[temp['joke_id']==joke]\n",
    "    av=temp['Rating'].mean()\n",
    "    \n",
    "    del temp\n",
    "    \n",
    "    return av\n"
   ]
  },
  {
   "cell_type": "code",
   "execution_count": 44,
   "id": "3443e8ec",
   "metadata": {},
   "outputs": [
    {
     "data": {
      "text/plain": [
       "datetime.timedelta(seconds=136, microseconds=904383)"
      ]
     },
     "execution_count": 44,
     "metadata": {},
     "output_type": "execute_result"
    }
   ],
   "source": [
    "now = datetime.now()\n",
    "testCL[\"CB_JA\"]=testCL.apply(lambda row: CB_JA(row['user_id'],row['joke_id']),axis=1)\n",
    "after=datetime.now()\n",
    "delta=after-now\n",
    "delta"
   ]
  },
  {
   "cell_type": "markdown",
   "id": "7eef5df4",
   "metadata": {},
   "source": [
    "# A.2 Cluster_Based UCF (CB-UCF)"
   ]
  },
  {
   "cell_type": "markdown",
   "id": "506b8d78",
   "metadata": {},
   "source": [
    "Για τον CB_UCF  έφτιαξα από πριν τους πίνακες των clusters καθώς μετά από δοκιμές είδα ότι καθυστερεί πολύ ο αλγόριθμος να φτιάχνει κάθε φορά τον πίνακα .και  έτσι ανάλογα με το σε ποιο cluster που βρίσκετε ο χρήστης δίνω τον ανάλογο πίνακα κάθε φορά αλλά αναθέτω και το νέο id του σε αυτό τον πίνακα ."
   ]
  },
  {
   "cell_type": "code",
   "execution_count": 45,
   "id": "c1166c98",
   "metadata": {},
   "outputs": [],
   "source": [
    "# Ru= sp_sparse.lil_matrix((139,40863))\n",
    "# Ru[train.joke_id,train.user_id]=train.Rating\n",
    "\n",
    "lc0=np.where(kmeans_labels==0)[0]\n",
    "lc1=np.where(kmeans_labels==1)[0]\n",
    "lc2=np.where(kmeans_labels==2)[0]\n",
    "Sv0=Ru[:,lc0]\n",
    "Sv1=Ru[:,lc1]\n",
    "Sv2=Ru[:,lc2]"
   ]
  },
  {
   "cell_type": "code",
   "execution_count": 47,
   "id": "22bced39",
   "metadata": {},
   "outputs": [],
   "source": [
    "def CB_UCF(user,joke):\n",
    "    if user  in lc0:\n",
    "        user=int(np. where(lc0 == user)[0])#παιρνω το νεο user_id στο μικροτερο πινακα οπου ειναι και η θεση του σε αυτον\n",
    "        av=UCF(user,joke,75,Sv0)\n",
    "    elif user in lc1:\n",
    "        user=int(np. where(lc1 == user)[0])\n",
    "        av=UCF(user,joke,75,Sv1)\n",
    "    elif user in lc2:\n",
    "        user=int(np. where(lc2 == user)[0])\n",
    "        av=UCF(user,joke,75,Sv2)\n",
    "#     else:\n",
    "#         av=by_joke_AV.iloc[joke].item()\n",
    "    return (av)\n",
    "    \n",
    "# def UCF(user,joke,k,Ru):   "
   ]
  },
  {
   "cell_type": "code",
   "execution_count": 48,
   "id": "200ec81b",
   "metadata": {},
   "outputs": [
    {
     "data": {
      "text/plain": [
       "datetime.timedelta(microseconds=23006)"
      ]
     },
     "execution_count": 48,
     "metadata": {},
     "output_type": "execute_result"
    }
   ],
   "source": [
    "now = datetime.now()\n",
    "CB_UCF(33635,138)\n",
    "after=datetime.now()\n",
    "delta=after-now\n",
    "delta"
   ]
  },
  {
   "cell_type": "code",
   "execution_count": 49,
   "id": "115034b9",
   "metadata": {},
   "outputs": [
    {
     "data": {
      "text/plain": [
       "datetime.timedelta(seconds=196, microseconds=621298)"
      ]
     },
     "execution_count": 49,
     "metadata": {},
     "output_type": "execute_result"
    }
   ],
   "source": [
    "now = datetime.now()\n",
    "testCL[\"CB_UCF\"]=testCL.apply(lambda row: CB_UCF(row['user_id'],row['joke_id']),axis=1)\n",
    "after=datetime.now()\n",
    "delta=after-now\n",
    "delta"
   ]
  },
  {
   "cell_type": "code",
   "execution_count": 50,
   "id": "99681f90",
   "metadata": {},
   "outputs": [
    {
     "data": {
      "text/html": [
       "<div>\n",
       "<style scoped>\n",
       "    .dataframe tbody tr th:only-of-type {\n",
       "        vertical-align: middle;\n",
       "    }\n",
       "\n",
       "    .dataframe tbody tr th {\n",
       "        vertical-align: top;\n",
       "    }\n",
       "\n",
       "    .dataframe thead th {\n",
       "        text-align: right;\n",
       "    }\n",
       "</style>\n",
       "<table border=\"1\" class=\"dataframe\">\n",
       "  <thead>\n",
       "    <tr style=\"text-align: right;\">\n",
       "      <th></th>\n",
       "      <th>user_id</th>\n",
       "      <th>joke_id</th>\n",
       "      <th>Rating</th>\n",
       "      <th>CB_JA</th>\n",
       "      <th>CB_UCF</th>\n",
       "    </tr>\n",
       "  </thead>\n",
       "  <tbody>\n",
       "    <tr>\n",
       "      <th>0</th>\n",
       "      <td>39892</td>\n",
       "      <td>21</td>\n",
       "      <td>-0.281</td>\n",
       "      <td>4.020895</td>\n",
       "      <td>4.583647</td>\n",
       "    </tr>\n",
       "    <tr>\n",
       "      <th>1</th>\n",
       "      <td>23074</td>\n",
       "      <td>21</td>\n",
       "      <td>3.156</td>\n",
       "      <td>4.020895</td>\n",
       "      <td>4.527517</td>\n",
       "    </tr>\n",
       "    <tr>\n",
       "      <th>2</th>\n",
       "      <td>23171</td>\n",
       "      <td>21</td>\n",
       "      <td>2.906</td>\n",
       "      <td>4.020895</td>\n",
       "      <td>4.574577</td>\n",
       "    </tr>\n",
       "    <tr>\n",
       "      <th>3</th>\n",
       "      <td>7282</td>\n",
       "      <td>21</td>\n",
       "      <td>-2.938</td>\n",
       "      <td>0.674081</td>\n",
       "      <td>1.147080</td>\n",
       "    </tr>\n",
       "    <tr>\n",
       "      <th>4</th>\n",
       "      <td>33970</td>\n",
       "      <td>21</td>\n",
       "      <td>2.656</td>\n",
       "      <td>4.020895</td>\n",
       "      <td>5.326344</td>\n",
       "    </tr>\n",
       "    <tr>\n",
       "      <th>...</th>\n",
       "      <td>...</td>\n",
       "      <td>...</td>\n",
       "      <td>...</td>\n",
       "      <td>...</td>\n",
       "      <td>...</td>\n",
       "    </tr>\n",
       "    <tr>\n",
       "      <th>9995</th>\n",
       "      <td>551</td>\n",
       "      <td>62</td>\n",
       "      <td>-9.000</td>\n",
       "      <td>-2.179643</td>\n",
       "      <td>37.488672</td>\n",
       "    </tr>\n",
       "    <tr>\n",
       "      <th>9996</th>\n",
       "      <td>202</td>\n",
       "      <td>20</td>\n",
       "      <td>7.844</td>\n",
       "      <td>6.137417</td>\n",
       "      <td>6.582758</td>\n",
       "    </tr>\n",
       "    <tr>\n",
       "      <th>9997</th>\n",
       "      <td>17</td>\n",
       "      <td>20</td>\n",
       "      <td>2.656</td>\n",
       "      <td>-1.539231</td>\n",
       "      <td>0.245786</td>\n",
       "    </tr>\n",
       "    <tr>\n",
       "      <th>9998</th>\n",
       "      <td>406</td>\n",
       "      <td>69</td>\n",
       "      <td>8.375</td>\n",
       "      <td>2.386463</td>\n",
       "      <td>1.544317</td>\n",
       "    </tr>\n",
       "    <tr>\n",
       "      <th>9999</th>\n",
       "      <td>463</td>\n",
       "      <td>69</td>\n",
       "      <td>-5.000</td>\n",
       "      <td>2.386463</td>\n",
       "      <td>0.351546</td>\n",
       "    </tr>\n",
       "  </tbody>\n",
       "</table>\n",
       "<p>10000 rows × 5 columns</p>\n",
       "</div>"
      ],
      "text/plain": [
       "      user_id  joke_id  Rating     CB_JA     CB_UCF\n",
       "0       39892       21  -0.281  4.020895   4.583647\n",
       "1       23074       21   3.156  4.020895   4.527517\n",
       "2       23171       21   2.906  4.020895   4.574577\n",
       "3        7282       21  -2.938  0.674081   1.147080\n",
       "4       33970       21   2.656  4.020895   5.326344\n",
       "...       ...      ...     ...       ...        ...\n",
       "9995      551       62  -9.000 -2.179643  37.488672\n",
       "9996      202       20   7.844  6.137417   6.582758\n",
       "9997       17       20   2.656 -1.539231   0.245786\n",
       "9998      406       69   8.375  2.386463   1.544317\n",
       "9999      463       69  -5.000  2.386463   0.351546\n",
       "\n",
       "[10000 rows x 5 columns]"
      ]
     },
     "execution_count": 50,
     "metadata": {},
     "output_type": "execute_result"
    }
   ],
   "source": [
    "testCL"
   ]
  },
  {
   "cell_type": "code",
   "execution_count": 51,
   "id": "d5a347d4",
   "metadata": {},
   "outputs": [
    {
     "data": {
      "text/plain": [
       "4.371083039898551"
      ]
     },
     "execution_count": 51,
     "metadata": {},
     "output_type": "execute_result"
    }
   ],
   "source": [
    "realVals = testCL.Rating\n",
    "predictedVals = testCL[\"CB_UCF\"]\n",
    "\n",
    "UArmse = mean_squared_error(realVals, predictedVals, squared = False)\n",
    "UArmse"
   ]
  },
  {
   "cell_type": "code",
   "execution_count": 52,
   "id": "1905d117",
   "metadata": {},
   "outputs": [
    {
     "data": {
      "text/plain": [
       "4.644974638959283"
      ]
     },
     "execution_count": 52,
     "metadata": {},
     "output_type": "execute_result"
    }
   ],
   "source": [
    "realVals = testCL.Rating\n",
    "predictedVals = testCL[\"CB_JA\"]\n",
    "\n",
    "UArmse = mean_squared_error(realVals, predictedVals, squared = False)\n",
    "UArmse"
   ]
  },
  {
   "cell_type": "markdown",
   "id": "490cef30",
   "metadata": {},
   "source": [
    "Παρατηρούμε ότι και οι δυο αλγόριθμοι έχουν μικρότερα RMSE από τους αντιστοίχους της ερώτησης 3 και επιπλέον ο CB_UCF χρειάζεται μόλις 3 λεπτά σε σχέση με τα 9 του UCF ανάλογο βέβαια αφού έχουμε 3 πίνακες μικρότερου μεγέθους αρά λιγότερες πράξεις μέσα στον UCF . Επομένως με το clustering πετυχαίνουμε και μικρότερο RMSE αλλά και μικρότερο χρόνο εκτέλεσης κάτι που κάνει τους αλγόριθμους πολύ πιο αποδοτικούς σε μεγάλα δεδομένα ."
   ]
  },
  {
   "cell_type": "markdown",
   "id": "c8c67ed5",
   "metadata": {},
   "source": [
    "# Β. Cluster_Based UA (CB_UA)"
   ]
  },
  {
   "cell_type": "code",
   "execution_count": null,
   "id": "026ee994",
   "metadata": {},
   "outputs": [],
   "source": [
    "Ακολουθώντας και πάλι τα βήματα από το tutorial κάνουμε το clustering και με το κοινό γράφημα βρίσκουμε τον αριθμό των clusters"
   ]
  },
  {
   "cell_type": "code",
   "execution_count": 58,
   "id": "af71ec5b",
   "metadata": {},
   "outputs": [
    {
     "data": {
      "image/png": "[encoded data removed]",
      "text/plain": [
       "<Figure size 432x288 with 2 Axes>"
      ]
     },
     "metadata": {
      "needs_background": "light"
     },
     "output_type": "display_data"
    }
   ],
   "source": [
    "jokedf = pd.read_csv('jokes.csv')\n",
    "\n",
    "vectorizer = sk_text.TfidfVectorizer(stop_words='english')\n",
    "text = vectorizer.fit_transform(jokedf[\"joke_text\"])\n",
    "\n",
    "\n",
    "error1 = np.zeros(11)\n",
    "sh_score1 = np.zeros(11)\n",
    "for k in range(2,11):\n",
    "    kmeans1 = sk_cluster.KMeans(init='k-means++', n_clusters=k, n_init=10)\n",
    "    kmeans1.fit_predict(text)\n",
    "    error1[k] = kmeans1.inertia_\n",
    "    sh_score1[k]= metrics.silhouette_score(text, kmeans1.labels_)\n",
    "\n",
    "fig, ax1 = plt.subplots()\n",
    "color = 'tab:red'\n",
    "ax1.set_xlabel('number of clusters')\\\n",
    "\n",
    "ax1.set_ylabel('silhoutte score', color=color)\n",
    "ax1.plot(range(2,len(sh_score1)),sh_score1[2:], color=color)\n",
    "ax1.tick_params(axis='y', labelcolor=color)\n",
    "ax2 = ax1.twinx() # instantiate a second axes that shares the same x-axis\n",
    "color = 'tab:blue'\n",
    "ax2.set_ylabel('SSE', color=color) # we already handled the x-label with ax1\n",
    "ax2.plot(range(2,len(error1)),error1[2:], color=color)\n",
    "ax2.tick_params(axis='y', labelcolor=color)\n",
    "fig.tight_layout()"
   ]
  },
  {
   "cell_type": "markdown",
   "id": "42678bbd",
   "metadata": {},
   "source": [
    "Μετά από πολλές επαναλήψεις για το γράφημα τις περισσότερες φορές εμφανίζετε κορυφή του silhoutte  για Κ = 8"
   ]
  },
  {
   "cell_type": "code",
   "execution_count": 92,
   "id": "72b5942d",
   "metadata": {},
   "outputs": [
    {
     "data": {
      "text/html": [
       "<div>\n",
       "<style scoped>\n",
       "    .dataframe tbody tr th:only-of-type {\n",
       "        vertical-align: middle;\n",
       "    }\n",
       "\n",
       "    .dataframe tbody tr th {\n",
       "        vertical-align: top;\n",
       "    }\n",
       "\n",
       "    .dataframe thead th {\n",
       "        text-align: right;\n",
       "    }\n",
       "</style>\n",
       "<table border=\"1\" class=\"dataframe\">\n",
       "  <thead>\n",
       "    <tr style=\"text-align: right;\">\n",
       "      <th></th>\n",
       "      <th>joke_id</th>\n",
       "      <th>joke_text</th>\n",
       "    </tr>\n",
       "  </thead>\n",
       "  <tbody>\n",
       "    <tr>\n",
       "      <th>0</th>\n",
       "      <td>1</td>\n",
       "      <td>Q. What's O. J. Simpson's web address? A. Slas...</td>\n",
       "    </tr>\n",
       "    <tr>\n",
       "      <th>1</th>\n",
       "      <td>2</td>\n",
       "      <td>How many feminists does it take to screw in a ...</td>\n",
       "    </tr>\n",
       "    <tr>\n",
       "      <th>2</th>\n",
       "      <td>3</td>\n",
       "      <td>Q. Did you hear about the dyslexic devil worsh...</td>\n",
       "    </tr>\n",
       "    <tr>\n",
       "      <th>3</th>\n",
       "      <td>4</td>\n",
       "      <td>They asked the Japanese visitor if they have e...</td>\n",
       "    </tr>\n",
       "    <tr>\n",
       "      <th>4</th>\n",
       "      <td>5</td>\n",
       "      <td>Q: What did the blind person say when given so...</td>\n",
       "    </tr>\n",
       "    <tr>\n",
       "      <th>...</th>\n",
       "      <td>...</td>\n",
       "      <td>...</td>\n",
       "    </tr>\n",
       "    <tr>\n",
       "      <th>134</th>\n",
       "      <td>135</td>\n",
       "      <td>A blonde, brunette, and a red head are all lin...</td>\n",
       "    </tr>\n",
       "    <tr>\n",
       "      <th>135</th>\n",
       "      <td>136</td>\n",
       "      <td>America: 8:00 - Welcome to work! 12:00 - Lunch...</td>\n",
       "    </tr>\n",
       "    <tr>\n",
       "      <th>136</th>\n",
       "      <td>137</td>\n",
       "      <td>It was the day of the big sale. Rumors of the ...</td>\n",
       "    </tr>\n",
       "    <tr>\n",
       "      <th>137</th>\n",
       "      <td>138</td>\n",
       "      <td>Recently a teacher, a garbage collector, and a...</td>\n",
       "    </tr>\n",
       "    <tr>\n",
       "      <th>138</th>\n",
       "      <td>139</td>\n",
       "      <td>A little girl asked her father, \"Daddy? Do all...</td>\n",
       "    </tr>\n",
       "  </tbody>\n",
       "</table>\n",
       "<p>139 rows × 2 columns</p>\n",
       "</div>"
      ],
      "text/plain": [
       "     joke_id                                          joke_text\n",
       "0          1  Q. What's O. J. Simpson's web address? A. Slas...\n",
       "1          2  How many feminists does it take to screw in a ...\n",
       "2          3  Q. Did you hear about the dyslexic devil worsh...\n",
       "3          4  They asked the Japanese visitor if they have e...\n",
       "4          5  Q: What did the blind person say when given so...\n",
       "..       ...                                                ...\n",
       "134      135  A blonde, brunette, and a red head are all lin...\n",
       "135      136  America: 8:00 - Welcome to work! 12:00 - Lunch...\n",
       "136      137  It was the day of the big sale. Rumors of the ...\n",
       "137      138  Recently a teacher, a garbage collector, and a...\n",
       "138      139  A little girl asked her father, \"Daddy? Do all...\n",
       "\n",
       "[139 rows x 2 columns]"
      ]
     },
     "execution_count": 92,
     "metadata": {},
     "output_type": "execute_result"
    }
   ],
   "source": [
    "jokedf\n"
   ]
  },
  {
   "cell_type": "code",
   "execution_count": 93,
   "id": "612094ca",
   "metadata": {},
   "outputs": [],
   "source": [
    "kmeans = sk_cluster.KMeans(init='k-means++', n_clusters=8, n_init=10)\n",
    "kmeans.fit_predict(text)\n",
    "centroids = kmeans.cluster_centers_\n",
    "kmeans_labels = kmeans.labels_\n",
    "error = kmeans.inertia_"
   ]
  },
  {
   "cell_type": "code",
   "execution_count": 94,
   "id": "684d7bb5",
   "metadata": {},
   "outputs": [],
   "source": [
    "train[\"cluster_J\"]=0"
   ]
  },
  {
   "cell_type": "code",
   "execution_count": 95,
   "id": "a4068fba",
   "metadata": {},
   "outputs": [
    {
     "data": {
      "text/plain": [
       "array([0, 4, 3, 0, 3, 7, 4, 1, 7, 6, 6, 2, 0, 0, 1, 7, 6, 5, 1, 6, 6, 3,\n",
       "       3, 0, 1, 1, 2, 2, 3, 4, 1, 3, 1, 2, 2, 3, 5, 2, 5, 3, 6, 0, 2, 2,\n",
       "       1, 1, 0, 4, 0, 3, 3, 5, 3, 0, 7, 7, 1, 1, 2, 7, 5, 2, 6, 4, 6, 3,\n",
       "       0, 6, 5, 1, 3, 1, 3, 6, 4, 2, 3, 3, 0, 4, 7, 3, 5, 1, 2, 7, 1, 7,\n",
       "       0, 6, 3, 7, 3, 5, 1, 5, 0, 3, 2, 2, 7, 3, 7, 6, 4, 0, 5, 3, 7, 7,\n",
       "       2, 7, 2, 1, 2, 2, 2, 0, 2, 3, 7, 7, 7, 3, 3, 7, 6, 6, 6, 3, 5, 3,\n",
       "       3, 2, 3, 5, 7, 0, 2])"
      ]
     },
     "execution_count": 95,
     "metadata": {},
     "output_type": "execute_result"
    }
   ],
   "source": [
    "kmeans_labels"
   ]
  },
  {
   "cell_type": "code",
   "execution_count": 96,
   "id": "f2d96f81",
   "metadata": {},
   "outputs": [
    {
     "name": "stderr",
     "output_type": "stream",
     "text": [
      "C:\\Users\\ggBoSS\\anaconda3\\lib\\site-packages\\pandas\\core\\indexing.py:1732: SettingWithCopyWarning: \n",
      "A value is trying to be set on a copy of a slice from a DataFrame\n",
      "\n",
      "See the caveats in the documentation: https://pandas.pydata.org/pandas-docs/stable/user_guide/indexing.html#returning-a-view-versus-a-copy\n",
      "  self._setitem_single_block(indexer, value, name)\n"
     ]
    }
   ],
   "source": [
    "for k in range(0,8):\n",
    "    lc=np.where(kmeans_labels==k)[0]\n",
    "    train[\"cluster_J\"].iloc[train[\"joke_id\"].isin(lc)]=k\n"
   ]
  },
  {
   "cell_type": "markdown",
   "id": "3d8eac80",
   "metadata": {},
   "source": [
    "Για τον αλγόριθμο υλοποίησα όμοια με τον CB_JA του 4.Α"
   ]
  },
  {
   "cell_type": "code",
   "execution_count": 97,
   "id": "118ddcec",
   "metadata": {},
   "outputs": [],
   "source": [
    "def CB_UA(user,joke):    \n",
    "    \n",
    "    x=train[train['joke_id']==joke].cluster.values[0]\n",
    "    temp=train[train[\"cluster_J\"]==x]\n",
    "    temp=temp[temp['user_id']==user]\n",
    "    temp\n",
    "    av=temp['Rating'].mean()\n",
    "    if math.isnan(av) :\n",
    "        av=by_user_AV.iloc[int(user)].item()\n",
    "        \n",
    "    del temp\n",
    "    return av\n"
   ]
  },
  {
   "cell_type": "code",
   "execution_count": 98,
   "id": "26b0d324",
   "metadata": {},
   "outputs": [
    {
     "data": {
      "text/plain": [
       "datetime.timedelta(seconds=63, microseconds=487839)"
      ]
     },
     "execution_count": 98,
     "metadata": {},
     "output_type": "execute_result"
    }
   ],
   "source": [
    "now = datetime.now()\n",
    "testCL[\"CB_UA\"]=testCL.apply(lambda row: CB_UA(row['user_id'],row['joke_id']),axis=1)\n",
    "after=datetime.now()\n",
    "delta=after-now\n",
    "delta"
   ]
  },
  {
   "cell_type": "code",
   "execution_count": 99,
   "id": "49438061",
   "metadata": {},
   "outputs": [
    {
     "data": {
      "text/html": [
       "<div>\n",
       "<style scoped>\n",
       "    .dataframe tbody tr th:only-of-type {\n",
       "        vertical-align: middle;\n",
       "    }\n",
       "\n",
       "    .dataframe tbody tr th {\n",
       "        vertical-align: top;\n",
       "    }\n",
       "\n",
       "    .dataframe thead th {\n",
       "        text-align: right;\n",
       "    }\n",
       "</style>\n",
       "<table border=\"1\" class=\"dataframe\">\n",
       "  <thead>\n",
       "    <tr style=\"text-align: right;\">\n",
       "      <th></th>\n",
       "      <th>user_id</th>\n",
       "      <th>joke_id</th>\n",
       "      <th>Rating</th>\n",
       "      <th>CB_JA</th>\n",
       "      <th>CB_UCF</th>\n",
       "      <th>CB_UA</th>\n",
       "    </tr>\n",
       "  </thead>\n",
       "  <tbody>\n",
       "    <tr>\n",
       "      <th>0</th>\n",
       "      <td>39892</td>\n",
       "      <td>21</td>\n",
       "      <td>-0.281</td>\n",
       "      <td>4.020895</td>\n",
       "      <td>4.583647</td>\n",
       "      <td>2.469000</td>\n",
       "    </tr>\n",
       "    <tr>\n",
       "      <th>1</th>\n",
       "      <td>23074</td>\n",
       "      <td>21</td>\n",
       "      <td>3.156</td>\n",
       "      <td>4.020895</td>\n",
       "      <td>4.527517</td>\n",
       "      <td>5.824800</td>\n",
       "    </tr>\n",
       "    <tr>\n",
       "      <th>2</th>\n",
       "      <td>23171</td>\n",
       "      <td>21</td>\n",
       "      <td>2.906</td>\n",
       "      <td>4.020895</td>\n",
       "      <td>4.574577</td>\n",
       "      <td>1.987400</td>\n",
       "    </tr>\n",
       "    <tr>\n",
       "      <th>3</th>\n",
       "      <td>7282</td>\n",
       "      <td>21</td>\n",
       "      <td>-2.938</td>\n",
       "      <td>0.674081</td>\n",
       "      <td>1.147080</td>\n",
       "      <td>0.427000</td>\n",
       "    </tr>\n",
       "    <tr>\n",
       "      <th>4</th>\n",
       "      <td>33970</td>\n",
       "      <td>21</td>\n",
       "      <td>2.656</td>\n",
       "      <td>4.020895</td>\n",
       "      <td>5.326344</td>\n",
       "      <td>1.771000</td>\n",
       "    </tr>\n",
       "    <tr>\n",
       "      <th>...</th>\n",
       "      <td>...</td>\n",
       "      <td>...</td>\n",
       "      <td>...</td>\n",
       "      <td>...</td>\n",
       "      <td>...</td>\n",
       "      <td>...</td>\n",
       "    </tr>\n",
       "    <tr>\n",
       "      <th>9995</th>\n",
       "      <td>551</td>\n",
       "      <td>62</td>\n",
       "      <td>-9.000</td>\n",
       "      <td>-2.179643</td>\n",
       "      <td>37.488672</td>\n",
       "      <td>-4.476750</td>\n",
       "    </tr>\n",
       "    <tr>\n",
       "      <th>9996</th>\n",
       "      <td>202</td>\n",
       "      <td>20</td>\n",
       "      <td>7.844</td>\n",
       "      <td>6.137417</td>\n",
       "      <td>6.582758</td>\n",
       "      <td>5.653200</td>\n",
       "    </tr>\n",
       "    <tr>\n",
       "      <th>9997</th>\n",
       "      <td>17</td>\n",
       "      <td>20</td>\n",
       "      <td>2.656</td>\n",
       "      <td>-1.539231</td>\n",
       "      <td>0.245786</td>\n",
       "      <td>3.078000</td>\n",
       "    </tr>\n",
       "    <tr>\n",
       "      <th>9998</th>\n",
       "      <td>406</td>\n",
       "      <td>69</td>\n",
       "      <td>8.375</td>\n",
       "      <td>2.386463</td>\n",
       "      <td>1.544317</td>\n",
       "      <td>0.968846</td>\n",
       "    </tr>\n",
       "    <tr>\n",
       "      <th>9999</th>\n",
       "      <td>463</td>\n",
       "      <td>69</td>\n",
       "      <td>-5.000</td>\n",
       "      <td>2.386463</td>\n",
       "      <td>0.351546</td>\n",
       "      <td>0.775917</td>\n",
       "    </tr>\n",
       "  </tbody>\n",
       "</table>\n",
       "<p>10000 rows × 6 columns</p>\n",
       "</div>"
      ],
      "text/plain": [
       "      user_id  joke_id  Rating     CB_JA     CB_UCF     CB_UA\n",
       "0       39892       21  -0.281  4.020895   4.583647  2.469000\n",
       "1       23074       21   3.156  4.020895   4.527517  5.824800\n",
       "2       23171       21   2.906  4.020895   4.574577  1.987400\n",
       "3        7282       21  -2.938  0.674081   1.147080  0.427000\n",
       "4       33970       21   2.656  4.020895   5.326344  1.771000\n",
       "...       ...      ...     ...       ...        ...       ...\n",
       "9995      551       62  -9.000 -2.179643  37.488672 -4.476750\n",
       "9996      202       20   7.844  6.137417   6.582758  5.653200\n",
       "9997       17       20   2.656 -1.539231   0.245786  3.078000\n",
       "9998      406       69   8.375  2.386463   1.544317  0.968846\n",
       "9999      463       69  -5.000  2.386463   0.351546  0.775917\n",
       "\n",
       "[10000 rows x 6 columns]"
      ]
     },
     "execution_count": 99,
     "metadata": {},
     "output_type": "execute_result"
    }
   ],
   "source": [
    "testCL"
   ]
  },
  {
   "cell_type": "code",
   "execution_count": 100,
   "id": "8c2e36ba",
   "metadata": {},
   "outputs": [
    {
     "data": {
      "text/plain": [
       "5.042294630853547"
      ]
     },
     "execution_count": 100,
     "metadata": {},
     "output_type": "execute_result"
    }
   ],
   "source": [
    "realVals = testCL.Rating\n",
    "predictedVals = testCL[\"CB_UA\"]\n",
    "\n",
    "UArmse = mean_squared_error(realVals, predictedVals, squared = False)\n",
    "UArmse"
   ]
  },
  {
   "cell_type": "markdown",
   "id": "1dddae08",
   "metadata": {},
   "source": [
    "Παρατηρούμε ότι παρόλο το clustering  το RMSE είναι μεγαλύτερο από  αυτό  του UA της άσκησης 3.\n",
    "Ίσως δεν έκανα σωστή επιλογή του κ αλλά με το γράφημα του SSE-Silhoutte  δεν είναι εμφανή η σωστή επιλογή του σε αυτή τη περίπτωση .\n"
   ]
  }
 ],
 "metadata": {
  "kernelspec": {
   "display_name": "Python 3 (ipykernel)",
   "language": "python",
   "name": "python3"
  },
  "language_info": {
   "codemirror_mode": {
    "name": "ipython",
    "version": 3
   },
   "file_extension": ".py",
   "mimetype": "text/x-python",
   "name": "python",
   "nbconvert_exporter": "python",
   "pygments_lexer": "ipython3",
   "version": "3.9.7"
  }
 },
 "nbformat": 4,
 "nbformat_minor": 5
}
